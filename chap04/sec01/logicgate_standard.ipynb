{
 "cells": [
  {
   "cell_type": "code",
   "execution_count": 1,
   "metadata": {},
   "outputs": [],
   "source": [
    "import numpy as np               # NumPyのみをインポート\n",
    "\n",
    "def create_matrix(x):\n",
    "    '''\n",
    "        データx1、x2にバイアスに対応するx0(=1)を加えた行列を作成\n",
    "    '''\n",
    "    x0 = np.ones([x.shape[0], 1]) # バイアスに対応する1の項\n",
    "    return np.hstack([x0, x])     # x0,x1,x2の行列を返す\n",
    "\n",
    "def sigmoid(X, parameter):\n",
    "    '''\n",
    "        シグモイド関数\n",
    "        ------------\n",
    "        X         : x0、x1、x2の行列\n",
    "        parameter : w0,w1,w3のベクトル\n",
    "    '''\n",
    "    return 1 / (1 + np.exp(-np.dot(X, parameter)))\n",
    "\n",
    "def logistic_regression(X, t):\n",
    "    '''\n",
    "        二値分類の学習を行うパーセプトロン\n",
    "        ------------\n",
    "        X : x0、x1、x2の行列\n",
    "        t : 正解ラベル\n",
    "    '''\n",
    "    LNR = 1e-1                    # 学習率を0.1に設定\n",
    "    loop = 50                    # 更新回数\n",
    "    count = 1                     # 処理回数をカウントする変数\n",
    "    parameter = np.random.rand(3) # w0,w1,w2を初期化\n",
    "\n",
    "    for i in range(loop):         # 学習をloop回繰り返す\n",
    "        # w0,w1,w2の更新\n",
    "        parameter = parameter - LNR*np.dot(\n",
    "            sigmoid(X,parameter) - t,\n",
    "            X\n",
    "            )\n",
    "        # 最初の1回と以降10回ごとにパラメーターの値を出力\n",
    "        if (count == 1 or count % 10 == 0):\n",
    "            print('{}回: parameter = {}'.format(count, parameter))        \n",
    "        count += 1               # カウンター変数の値を1増やす\n",
    "        \n",
    "    return parameter             # 学習後のw0、w1、w2を返す"
   ]
  },
  {
   "cell_type": "code",
   "execution_count": 2,
   "metadata": {},
   "outputs": [
    {
     "name": "stdout",
     "output_type": "stream",
     "text": [
      "1回: parameter = [0.06790247 0.23203932 0.89282791]\n",
      "10回: parameter = [-0.86717022  0.17888753  0.70893195]\n",
      "20回: parameter = [-1.3193361   0.39327394  0.81388821]\n",
      "30回: parameter = [-1.62528265  0.63514461  0.97325745]\n",
      "40回: parameter = [-1.88361823  0.8579253   1.13157548]\n",
      "50回: parameter = [-2.11660495  1.05735135  1.28003308]\n"
     ]
    }
   ],
   "source": [
    "# ANDゲート\n",
    "# x1、x2を行列xに代入\n",
    "x =np.array([[0, 0], [0, 1], [1, 0], [1, 1]])\n",
    "# 正解値をtに代入\n",
    "t = np.array([0, 0, 0, 1])\n",
    "# xにバイアス対応の1の項を追加して行列を作成\n",
    "X = create_matrix(x)   \n",
    "# パラメーターの値を学習する\n",
    "parameter = logistic_regression(X, t)"
   ]
  },
  {
   "cell_type": "code",
   "execution_count": 3,
   "metadata": {},
   "outputs": [
    {
     "data": {
      "text/plain": [
       "array([0, 0, 0, 1])"
      ]
     },
     "execution_count": 3,
     "metadata": {},
     "output_type": "execute_result"
    }
   ],
   "source": [
    "# 学習した重み・バイアスを使ってANDゲートを出力してみる\n",
    "# sigmoid()の戻り値が0.5以上であれば1、そうでなければ0を返す\n",
    "(sigmoid(\n",
    "    create_matrix(\n",
    "        np.array([[0, 0], [0, 1], [1, 0], [1, 1]])\n",
    "        ),\n",
    "    parameter  # 学習後の重み・バイアス\n",
    ") >= 0.5).astype(np.int)"
   ]
  },
  {
   "cell_type": "code",
   "execution_count": 4,
   "metadata": {},
   "outputs": [
    {
     "name": "stdout",
     "output_type": "stream",
     "text": [
      "1回: parameter = [ 0.58853327  0.37140645 -0.01804037]\n",
      "10回: parameter = [ 0.8594955   0.01638414 -0.3027499 ]\n",
      "20回: parameter = [ 1.1718506  -0.29903889 -0.55464716]\n",
      "30回: parameter = [ 1.46341092 -0.56378488 -0.76917456]\n",
      "40回: parameter = [ 1.72999679 -0.79291271 -0.95869248]\n",
      "50回: parameter = [ 1.97410697 -0.99492377 -1.12939294]\n"
     ]
    }
   ],
   "source": [
    "# NANDゲート\n",
    "# x1、x2を行列xに代入\n",
    "x =np.array([[0, 0], [0, 1], [1, 0], [1, 1]])\n",
    "# 正解値をtに代入\n",
    "t = np.array([1, 1, 1, 0])\n",
    "# xにバイアス対応の1の項を追加して行列を作成\n",
    "X = create_matrix(x)\n",
    "    \n",
    "# パラメーターの値を学習する\n",
    "parameter = logistic_regression(X, t)"
   ]
  },
  {
   "cell_type": "code",
   "execution_count": 5,
   "metadata": {},
   "outputs": [
    {
     "data": {
      "text/plain": [
       "array([1, 1, 1, 0])"
      ]
     },
     "execution_count": 5,
     "metadata": {},
     "output_type": "execute_result"
    }
   ],
   "source": [
    "# 学習した重み・バイアスを使ってANDゲートを出力してみる\n",
    "# sigmoid()の戻り値が0.5以上であれば1、そうでなければ0を返す\n",
    "(sigmoid(\n",
    "    create_matrix(\n",
    "        np.array([[0, 0], [0, 1], [1, 0], [1, 1]])\n",
    "        ),\n",
    "    parameter  # 学習後の重み・バイアス\n",
    ") >= 0.5).astype(np.int)"
   ]
  },
  {
   "cell_type": "code",
   "execution_count": 6,
   "metadata": {
    "scrolled": true
   },
   "outputs": [
    {
     "name": "stdout",
     "output_type": "stream",
     "text": [
      "1回: parameter = [0.87758304 0.55169863 0.84383626]\n",
      "10回: parameter = [0.64856286 0.8009569  1.05778802]\n",
      "20回: parameter = [0.42532359 1.05678945 1.27954919]\n",
      "30回: parameter = [0.23137625 1.29273558 1.48633054]\n",
      "40回: parameter = [0.06212118 1.51084185 1.67959184]\n",
      "50回: parameter = [-0.08679028  1.71298524  1.8606183 ]\n"
     ]
    }
   ],
   "source": [
    "# ORゲート\n",
    "# x1、x2を行列xに代入\n",
    "x =np.array([[0, 0], [0, 1], [1, 0], [1, 1]])\n",
    "# 正解値をtに代入\n",
    "t = np.array([0, 1, 1, 1])\n",
    "# xにバイアス対応の1の項を追加して行列を作成\n",
    "X = create_matrix(x)\n",
    "    \n",
    "# パラメーターの値を学習する\n",
    "parameter = logistic_regression(X, t)"
   ]
  },
  {
   "cell_type": "code",
   "execution_count": 7,
   "metadata": {},
   "outputs": [
    {
     "data": {
      "text/plain": [
       "array([0, 1, 1, 1])"
      ]
     },
     "execution_count": 7,
     "metadata": {},
     "output_type": "execute_result"
    }
   ],
   "source": [
    "# 学習した重み・バイアスを使ってANDゲートを出力してみる\n",
    "# sigmoid()の戻り値が0.5以上であれば1、そうでなければ0を返す\n",
    "(sigmoid(\n",
    "    create_matrix(\n",
    "        np.array([[0, 0], [0, 1], [1, 0], [1, 1]])\n",
    "        ),\n",
    "    parameter  # 学習後の重み・バイアス\n",
    ") >= 0.5).astype(np.int)"
   ]
  },
  {
   "cell_type": "code",
   "execution_count": null,
   "metadata": {},
   "outputs": [],
   "source": []
  }
 ],
 "metadata": {
  "kernelspec": {
   "display_name": "Python 3",
   "language": "python",
   "name": "python3"
  },
  "language_info": {
   "codemirror_mode": {
    "name": "ipython",
    "version": 3
   },
   "file_extension": ".py",
   "mimetype": "text/x-python",
   "name": "python",
   "nbconvert_exporter": "python",
   "pygments_lexer": "ipython3",
   "version": "3.6.7"
  }
 },
 "nbformat": 4,
 "nbformat_minor": 2
}
