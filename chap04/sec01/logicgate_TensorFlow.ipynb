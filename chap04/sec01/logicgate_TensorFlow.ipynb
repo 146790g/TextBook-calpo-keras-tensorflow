{
 "cells": [
  {
   "cell_type": "code",
   "execution_count": 1,
   "metadata": {},
   "outputs": [],
   "source": [
    "# 必要なライブラリのインポート\n",
    "import numpy as np\n",
    "import tensorflow as tf"
   ]
  },
  {
   "cell_type": "code",
   "execution_count": 2,
   "metadata": {},
   "outputs": [],
   "source": [
    "# ANDゲートの入力値　0と1の組み合わせの行列(4, 2)\n",
    "X = np.array([[0, 0],\n",
    "              [0, 1],\n",
    "              [1, 0],\n",
    "              [1, 1]])\n",
    "# ANDゲートの出力　正解ラベルの行列(4, 1)\n",
    "T = np.array([[0],\n",
    "              [0],\n",
    "              [0],\n",
    "              [1]])"
   ]
  },
  {
   "cell_type": "code",
   "execution_count": 3,
   "metadata": {},
   "outputs": [],
   "source": [
    "learning_rate=0.1   # 学習率\n",
    "training_epochs=100 # 学習回数"
   ]
  },
  {
   "cell_type": "code",
   "execution_count": 4,
   "metadata": {},
   "outputs": [],
   "source": [
    "'''\n",
    "データフローグラフ\n",
    "'''\n",
    "#---- 変数 ----#\n",
    "# 重み(2,1)の行列(縦ベクトル)\n",
    "# 切断正規分布の母集団からランダムサンプリング\n",
    "w = tf.Variable(tf.truncated_normal([2, 1]))\n",
    "# バイアスは0で初期化（形状は要素数1の配列）\n",
    "b = tf.Variable(tf.zeros([1]))\n",
    "\n",
    "#-- プレースホルダー --#\n",
    "# 入力データを保持するプレースホルダー　形状(行数未指定, 2列)\n",
    "x = tf.placeholder(tf.float32, shape=[None, 2])\n",
    "# 正解データを保持するプレースホルダー　形状(行数未指定, 1列)\n",
    "t = tf.placeholder(tf.float32, shape=[None, 1])\n",
    "\n",
    "# シグモイド関数の出力を行うPOノード\n",
    "out = tf.nn.sigmoid(tf.matmul(x, w) + b)\n",
    "# 誤算関数（交差エントロピー誤差）のopノード\n",
    "cost = - tf.reduce_sum(\n",
    "    t * tf.log(out) + (1 - t) * tf.log(1 - out))\n",
    "# 勾配降下アルゴリズムのopノード\n",
    "train_op = tf.train.GradientDescentOptimizer(learning_rate).minimize(cost)\n",
    "# テストデータの予測を判定するopノード\n",
    "correct_prediction = tf.equal(tf.to_float(tf.greater(out, 0.5)), t)\n",
    "# 変数を初期化するopノード\n",
    "init_op= tf.global_variables_initializer()"
   ]
  },
  {
   "cell_type": "code",
   "execution_count": 5,
   "metadata": {},
   "outputs": [
    {
     "name": "stdout",
     "output_type": "stream",
     "text": [
      "( 10 ) 2.1052206\n",
      "( 20 ) 1.8430648\n",
      "( 30 ) 1.657056\n",
      "( 40 ) 1.509059\n",
      "( 50 ) 1.3880336\n",
      "( 60 ) 1.2870069\n",
      "( 70 ) 1.2011769\n",
      "( 80 ) 1.1271577\n",
      "( 90 ) 1.0625086\n",
      "( 100 ) 1.0054314\n",
      "( 100 ) 1.0054314\n",
      "\n",
      "Check:\n",
      "[[ True]\n",
      " [ True]\n",
      " [ True]\n",
      " [ True]]\n",
      "\n",
      "b =\n",
      " [-3.0316956] \n",
      "w1, w2 =\n",
      " [[1.7978806]\n",
      " [1.8669872]] \n",
      "\n",
      "Output Probability:\n",
      "[[0.04601434]\n",
      " [0.2378128 ]\n",
      " [0.22551443]\n",
      " [0.6532084 ]]\n"
     ]
    }
   ],
   "source": [
    "'''\n",
    "セッション\n",
    "'''\n",
    "with tf.Session() as sess:\n",
    "    sess.run(init_op)           # init_opノードを実行して変数を初期化\n",
    "    \n",
    "    # training_epochsの回数だけ学習を繰り返す\n",
    "    for epoch in range(training_epochs):\n",
    "        err, _ = sess.run(\n",
    "            [cost,              # 交差エントロピー誤差関数ノードを実行\n",
    "             train_op],         # ミニマイザーを実行\n",
    "             feed_dict={x: X,   # 訓練データ\n",
    "                        t: T    # 正解ラベル\n",
    "                        }\n",
    "            )\n",
    "        epoch += 1              # epochに1を加算\n",
    "        if epoch % 10 == 0:     # 10回ごとに誤差を出力\n",
    "            print('(',epoch, ')',err)\n",
    "\n",
    "    # 学習終了時の誤差を出力\n",
    "    print('(',epoch, ')',err)\n",
    "    \n",
    "    # 学習結果で予測判定する\n",
    "    print('\\nCheck:')\n",
    "    print(\n",
    "        correct_prediction.eval(\n",
    "            feed_dict={x: X,     # 訓練データをセット\n",
    "                       t: T      # 正解ラベルをセット\n",
    "                      }\n",
    "        ))\n",
    "    \n",
    "    # 学習後のバイアスと重みを出力\n",
    "    print(\n",
    "        '\\nb =\\n', sess.run(b),\n",
    "        '\\nw1, w2 =\\n', sess.run(w), '\\n'\n",
    "        )\n",
    "    \n",
    "    # 最終出力を表示\n",
    "    print('Output Probability:') \n",
    "    print(\n",
    "        out.eval(                # out2ノード(活性化関数)を実行\n",
    "            feed_dict={x: X}\n",
    "        ))"
   ]
  },
  {
   "cell_type": "code",
   "execution_count": null,
   "metadata": {},
   "outputs": [],
   "source": []
  }
 ],
 "metadata": {
  "kernelspec": {
   "display_name": "Python 3",
   "language": "python",
   "name": "python3"
  },
  "language_info": {
   "codemirror_mode": {
    "name": "ipython",
    "version": 3
   },
   "file_extension": ".py",
   "mimetype": "text/x-python",
   "name": "python",
   "nbconvert_exporter": "python",
   "pygments_lexer": "ipython3",
   "version": "3.6.8"
  }
 },
 "nbformat": 4,
 "nbformat_minor": 2
}
