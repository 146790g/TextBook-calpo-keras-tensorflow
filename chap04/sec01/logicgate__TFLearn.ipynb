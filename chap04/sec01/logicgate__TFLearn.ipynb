{
 "cells": [
  {
   "cell_type": "code",
   "execution_count": 1,
   "metadata": {
    "scrolled": false
   },
   "outputs": [
    {
     "name": "stdout",
     "output_type": "stream",
     "text": [
      "curses is not supported on this machine (please install/reinstall curses for an optimal experience)\n"
     ]
    }
   ],
   "source": [
    "import tensorflow as tf\n",
    "import tflearn\n",
    "import numpy as np"
   ]
  },
  {
   "cell_type": "code",
   "execution_count": 2,
   "metadata": {},
   "outputs": [],
   "source": [
    "# ORゲート\n",
    "# ORゲートの入力値　0と1の組み合わせの行列(4, 2)\n",
    "X = np.array([[0, 0], [0, 1], [1, 0], [1, 1]])\n",
    "# ORゲートの出力　正解ラベルの行列(4, 1)\n",
    "T = np.array([[0], [1], [1], [1]])"
   ]
  },
  {
   "cell_type": "code",
   "execution_count": 3,
   "metadata": {},
   "outputs": [],
   "source": [
    "# ネットワークの初期化\n",
    "tf.reset_default_graph()\n",
    "\n",
    "# 入力層\n",
    "net = tflearn.input_data(shape=[None, 2])\n",
    "\n",
    "# 出力層\n",
    "net = tflearn.fully_connected(incoming=net,        # 入力する2Dテンソル\n",
    "                              n_units=1,           # ユニットの数\n",
    "                              activation='sigmoid' # 活性化関数\n",
    "                             )\n",
    "\n",
    "# 学習条件の設定\n",
    "net = tflearn.regression(incoming=net,             # 入力する2Dテンソル\n",
    "                         optimizer='sgd',          # オプティマイザーには確率的勾配降下法\n",
    "                         learning_rate=0.1,        # 学習率\n",
    "                         loss='binary_crossentropy'# 誤差関数はバイナリ用のクロスエントロピー\n",
    "                        )"
   ]
  },
  {
   "cell_type": "code",
   "execution_count": 4,
   "metadata": {},
   "outputs": [
    {
     "name": "stdout",
     "output_type": "stream",
     "text": [
      "Training Step: 799  | total loss: \u001b[1m\u001b[32m0.48222\u001b[0m\u001b[0m | time: 0.009s\n",
      "| SGD | epoch: 200 | loss: 0.48222 - binary_acc: 0.7794 -- iter: 3/4\n",
      "Training Step: 800  | total loss: \u001b[1m\u001b[32m0.47044\u001b[0m\u001b[0m | time: 0.011s\n",
      "| SGD | epoch: 200 | loss: 0.47044 - binary_acc: 0.8015 -- iter: 4/4\n",
      "--\n"
     ]
    }
   ],
   "source": [
    "# 学習対象のネットワークとしてnetをセット\n",
    "model = tflearn.DNN(net)\n",
    "# 学習の実行\n",
    "model.fit(X,               # 訓練データ\n",
    "          T,               # 正解ラベル\n",
    "          n_epoch=200,     # 学習回数\n",
    "          batch_size=1,    # 確率的勾配降下法におけるバッチ数\n",
    "          show_metric=True # 学習のステップごとに精度を出力\n",
    "         )"
   ]
  },
  {
   "cell_type": "code",
   "execution_count": 5,
   "metadata": {},
   "outputs": [
    {
     "name": "stdout",
     "output_type": "stream",
     "text": [
      "output probability:\n",
      "[[0.45020208]\n",
      " [0.8303295 ]\n",
      " [0.8243446 ]\n",
      " [0.9655731 ]]\n",
      "\n",
      "LABEL:\n",
      "[[0]\n",
      " [1]\n",
      " [1]\n",
      " [1]]\n"
     ]
    }
   ],
   "source": [
    "pred = np.array(model.predict(X))\n",
    "print('output probability:')\n",
    "print(pred)\n",
    "print('\\nLABEL:')\n",
    "print(T)"
   ]
  },
  {
   "cell_type": "code",
   "execution_count": null,
   "metadata": {},
   "outputs": [],
   "source": []
  }
 ],
 "metadata": {
  "kernelspec": {
   "display_name": "Python 3",
   "language": "python",
   "name": "python3"
  },
  "language_info": {
   "codemirror_mode": {
    "name": "ipython",
    "version": 3
   },
   "file_extension": ".py",
   "mimetype": "text/x-python",
   "name": "python",
   "nbconvert_exporter": "python",
   "pygments_lexer": "ipython3",
   "version": "3.6.8"
  }
 },
 "nbformat": 4,
 "nbformat_minor": 2
}
