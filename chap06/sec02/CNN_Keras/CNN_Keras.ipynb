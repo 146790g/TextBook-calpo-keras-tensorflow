{
 "cells": [
  {
   "cell_type": "code",
   "execution_count": 1,
   "metadata": {},
   "outputs": [
    {
     "name": "stderr",
     "output_type": "stream",
     "text": [
      "Using TensorFlow backend.\n"
     ]
    }
   ],
   "source": [
    "# ライブラリのインポート\n",
    "from keras.utils import np_utils\n",
    "from keras.datasets import mnist\n",
    "from keras.models import Sequential\n",
    "from keras.layers import Dense, Dropout, Flatten\n",
    "from keras.layers import Conv2D, MaxPooling2D\n",
    "from keras.optimizers import Adam"
   ]
  },
  {
   "cell_type": "code",
   "execution_count": 2,
   "metadata": {},
   "outputs": [],
   "source": [
    "# データセットの読み込みとデータの前処理\n",
    "\n",
    "# MNISTデータセットの読み込み\n",
    "(x_trains, y_trains), (x_tests, y_tests) = mnist.load_data()\n",
    "\n",
    "# 訓練データ\n",
    "# 60000x28x28の3次元配列を60000×28×28×1の4次元配列に変換\n",
    "x_trains = x_trains.reshape(60000, 28, 28, 1)\n",
    "x_trains = x_trains.astype('float32') # float32型に変換\n",
    "x_trains /= 255                       # 0から1.0の範囲に変換\n",
    "correct = 10                          # 正解ラベルの数\n",
    "# 正解ラベルを1-of-K符号化法で変換\n",
    "y_trains = np_utils.to_categorical(y_trains, correct)\n",
    "\n",
    "# テストデータ\n",
    "# 10000x28x28の3次元配列を10000×28×28×1の4次元配列に変換\n",
    "x_tests = x_tests.reshape(10000, 28, 28, 1)\n",
    "# テストデータをfloat32(浮動小数点数)型に変換\n",
    "x_tests = x_tests.astype('float32') # float32型に変換\n",
    "x_tests /= 255                      # 0から1.0の範囲に変換\n",
    "# 正解ラベルをワンホット表現に変換\n",
    "y_tests = np_utils.to_categorical(y_tests, correct)"
   ]
  },
  {
   "cell_type": "code",
   "execution_count": 3,
   "metadata": {},
   "outputs": [
    {
     "name": "stdout",
     "output_type": "stream",
     "text": [
      "_________________________________________________________________\n",
      "Layer (type)                 Output Shape              Param #   \n",
      "=================================================================\n",
      "conv2d_1 (Conv2D)            (None, 28, 28, 16)        160       \n",
      "_________________________________________________________________\n",
      "conv2d_2 (Conv2D)            (None, 28, 28, 32)        4640      \n",
      "_________________________________________________________________\n",
      "max_pooling2d_1 (MaxPooling2 (None, 14, 14, 32)        0         \n",
      "_________________________________________________________________\n",
      "conv2d_3 (Conv2D)            (None, 14, 14, 64)        18496     \n",
      "_________________________________________________________________\n",
      "max_pooling2d_2 (MaxPooling2 (None, 7, 7, 64)          0         \n",
      "_________________________________________________________________\n",
      "dropout_1 (Dropout)          (None, 7, 7, 64)          0         \n",
      "_________________________________________________________________\n",
      "flatten_1 (Flatten)          (None, 3136)              0         \n",
      "_________________________________________________________________\n",
      "dense_1 (Dense)              (None, 128)               401536    \n",
      "_________________________________________________________________\n",
      "dense_2 (Dense)              (None, 10)                1290      \n",
      "=================================================================\n",
      "Total params: 426,122\n",
      "Trainable params: 426,122\n",
      "Non-trainable params: 0\n",
      "_________________________________________________________________\n"
     ]
    }
   ],
   "source": [
    "# 畳み込みネットワークの構築\n",
    "\n",
    "model = Sequential()                      # Sequentialオブジェクトの生成\n",
    "\n",
    "# （第1層）畳み込み層1\n",
    "# ニューロン数：16\n",
    "# 出力：1ニューロンあたり(28, 28, 1)の3階テンソルを16個出力\n",
    "model.add(Conv2D(filters=16,              # フィルターの数は16\n",
    "                 kernel_size=(3, 3),      # 3×3のフィルターを使用\n",
    "                 input_shape=(28, 28, 1), # 入力データのサイズ\n",
    "                 padding='same',          # ゼロパディングを行う\n",
    "                 activation='relu'        # 活性化関数はReLU\n",
    "                ))\n",
    "\n",
    "# （第2層）畳み込み層2\n",
    "# ニューロン数：32\n",
    "# 出力：1ニューロンあたり(28, 28, 1)の3階テンソルを32個出力\n",
    "model.add(Conv2D(filters=32,              # フィルターの数は32\n",
    "                 kernel_size=(3, 3),      # 3×3のフィルターを使用\n",
    "                 padding='same',          # ゼロパディングを行う\n",
    "                 activation='relu'        # 活性化関数はReLU\n",
    "                ))\n",
    "\n",
    "# （第3層）プーリング層1\n",
    "# ユニット数：32\n",
    "# 出力：1ユニットあたり(14, 14, 1)の3階テンソルを32個出力\n",
    "model.add(\n",
    "    MaxPooling2D(pool_size=(2, 2)))       # 縮小対象の領域は2×2\n",
    "\n",
    "# （第4層）畳み込み層3\n",
    "# ニューロン数：64\n",
    "# 出力：1ニューロンあたり(14, 14, 1)の3階テンソルを64個出力\n",
    "model.add(Conv2D(filters=64,              # フィルターの数は64\n",
    "                 kernel_size=(3, 3),      # 3×3のフィルターを使用\n",
    "                 padding='same',          # ゼロパディングを行う\n",
    "                 activation='relu'        # 活性化関数はReLU\n",
    "                ))\n",
    "\n",
    "# （第5層）プーリング層2\n",
    "# 出力：1ユニットあたり(7, 7, 1)の3階テンソルを64個出力\n",
    "model.add(\n",
    "    MaxPooling2D(pool_size=(2, 2)))       # 縮小対象の領域は2×2\n",
    "\n",
    "# ドロップアウト層\n",
    "# 出力：1ユニットあたり(7, 7, 1)の3階テンソルを64個出力\n",
    "model.add(Dropout(0.5))                   # ドロップアウトは50％\n",
    "\n",
    "# Flaten層\n",
    "# ニューロン数＝7×7×64）\n",
    "# 画像の枚数, 7（タテ）,7（ヨコ）,64（チャンネル）)を\n",
    "# 画像の枚数, 7×7×64=3136)の2階テンソルに変換\n",
    "model.add(Flatten())\n",
    "\n",
    "# （第6層）全結合層\n",
    "# ニューロン数：128\n",
    "# 出力：要素数(128)の1階テンソルを出力\n",
    "model.add(Dense(128,                      # ニューロン数は128\n",
    "                activation='relu'         # 活性化関数はReLU\n",
    "               ))\n",
    "\n",
    "# （第7層）出力層\n",
    "# ニューロン数：10\n",
    "# 出力：要素数(10)の1階テンソルを出力\n",
    "model.add(Dense(10,                       # 出力層のニューロン数は10\n",
    "                activation='softmax'      # 活性化関数はソフトマックス\n",
    "               ))\n",
    "\n",
    "# Sequentialオブジェクトのコンパイル\n",
    "model.compile(\n",
    "    loss='categorical_crossentropy',      # 損失の基準は交差エントロピー誤差\n",
    "    optimizer=Adam(),                     # 学習方法をAdamにする\n",
    "    metrics=['accuracy']                  # 学習評価として正解率を指定\n",
    "    )\n",
    "\n",
    "model.summary()"
   ]
  },
  {
   "cell_type": "code",
   "execution_count": 4,
   "metadata": {},
   "outputs": [
    {
     "name": "stdout",
     "output_type": "stream",
     "text": [
      "Train on 60000 samples, validate on 10000 samples\n",
      "Epoch 1/10\n",
      "60000/60000 [==============================] - 112s 2ms/step - loss: 0.2055 - acc: 0.9347 - val_loss: 0.0470 - val_acc: 0.9847\n",
      "Epoch 2/10\n",
      "60000/60000 [==============================] - 110s 2ms/step - loss: 0.0658 - acc: 0.9795 - val_loss: 0.0439 - val_acc: 0.9853\n",
      "Epoch 3/10\n",
      "60000/60000 [==============================] - 111s 2ms/step - loss: 0.0487 - acc: 0.9846 - val_loss: 0.0258 - val_acc: 0.9902\n",
      "Epoch 4/10\n",
      "60000/60000 [==============================] - 111s 2ms/step - loss: 0.0397 - acc: 0.9871 - val_loss: 0.0229 - val_acc: 0.9918\n",
      "Epoch 5/10\n",
      "60000/60000 [==============================] - 111s 2ms/step - loss: 0.0334 - acc: 0.9892 - val_loss: 0.0267 - val_acc: 0.9909\n",
      "Epoch 6/10\n",
      "60000/60000 [==============================] - 114s 2ms/step - loss: 0.0269 - acc: 0.9913 - val_loss: 0.0250 - val_acc: 0.9923\n",
      "Epoch 7/10\n",
      "60000/60000 [==============================] - 112s 2ms/step - loss: 0.0263 - acc: 0.9913 - val_loss: 0.0231 - val_acc: 0.9923\n",
      "Epoch 8/10\n",
      "60000/60000 [==============================] - 110s 2ms/step - loss: 0.0229 - acc: 0.9923 - val_loss: 0.0217 - val_acc: 0.9922\n",
      "Epoch 9/10\n",
      "60000/60000 [==============================] - 110s 2ms/step - loss: 0.0201 - acc: 0.9936 - val_loss: 0.0220 - val_acc: 0.9927\n",
      "Epoch 10/10\n",
      "60000/60000 [==============================] - 110s 2ms/step - loss: 0.0176 - acc: 0.9941 - val_loss: 0.0212 - val_acc: 0.9937\n"
     ]
    }
   ],
   "source": [
    "history = model.ﬁt(x_trains,            # 訓練データ\n",
    "                   y_trains,            # 正解ラベル \n",
    "                   batch_size=100,      # 勾配計算に用いるミニバッチの数 \n",
    "                   epochs=10,           # 学習を繰り返す回数\n",
    "                   verbose=1,           # 学習の進捗状況を出力する\n",
    "                   validation_data=(\n",
    "                       x_tests, y_tests # テストデータの指定\n",
    "                   ))"
   ]
  },
  {
   "cell_type": "code",
   "execution_count": 5,
   "metadata": {},
   "outputs": [
    {
     "data": {
      "image/png": "[encoded data removed]",
      "text/plain": [
       "<Figure size 1080x432 with 2 Axes>"
      ]
     },
     "metadata": {
      "needs_background": "light"
     },
     "output_type": "display_data"
    }
   ],
   "source": [
    "%matplotlib inline\n",
    "import numpy as np\n",
    "import matplotlib.pyplot as plt\n",
    "\n",
    "# プロット図のサイズを設定\n",
    "plt.ﬁgure(ﬁgsize=(15, 6))\n",
    "# プロット図を縮小して図の間のスペースを空ける\n",
    "plt.subplots_adjust(wspace=0.5)\n",
    "\n",
    "# 1×2のグリッドの左(1,2,1)の領域にプロット\n",
    "plt.subplot(1, 2, 1)\n",
    "# 訓練データの損失(誤り率)をプロット\n",
    "plt.plot(history.history['loss'],\n",
    "         label='training',\n",
    "         color='black')\n",
    "# テストデータの損失(誤り率)をプロット\n",
    "plt.plot(history.history['val_loss'],\n",
    "         label='test',\n",
    "         color='red')\n",
    "plt.ylim(0, 1)       # y軸の範囲\n",
    "plt.legend()         # 凡例を表示\n",
    "plt.grid()           # グリッド表示\n",
    "plt.xlabel('epoch')  # x軸ラベル\n",
    "plt.ylabel('loss')   # y軸ラベル\n",
    "\n",
    "# 1×2のグリッドの右(1,2,21)の領域にプロット\n",
    "plt.subplot(1, 2, 2)\n",
    "# 訓練データの正解率をプロット\n",
    "plt.plot(history.history['acc'],\n",
    "         label='training',\n",
    "         color='black')\n",
    "# テストデータの正解率をプロット\n",
    "plt.plot(history.history['val_acc'],\n",
    "         label='test',\n",
    "         color='red')\n",
    "plt.ylim(0.5, 1)     # y軸の範囲\n",
    "plt.legend()         # 凡例を表示\n",
    "plt.grid()           # グリッド表示\n",
    "plt.xlabel('epoch')  # x軸ラベル\n",
    "plt.ylabel('acc')    # y軸ラベル\n",
    "plt.show()"
   ]
  },
  {
   "cell_type": "code",
   "execution_count": null,
   "metadata": {},
   "outputs": [],
   "source": []
  }
 ],
 "metadata": {
  "kernelspec": {
   "display_name": "Python 3",
   "language": "python",
   "name": "python3"
  },
  "language_info": {
   "codemirror_mode": {
    "name": "ipython",
    "version": 3
   },
   "file_extension": ".py",
   "mimetype": "text/x-python",
   "name": "python",
   "nbconvert_exporter": "python",
   "pygments_lexer": "ipython3",
   "version": "3.6.8"
  }
 },
 "nbformat": 4,
 "nbformat_minor": 2
}
