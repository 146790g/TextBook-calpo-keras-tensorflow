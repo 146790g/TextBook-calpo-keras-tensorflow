{
 "cells": [
  {
   "cell_type": "code",
   "execution_count": 1,
   "metadata": {},
   "outputs": [
    {
     "name": "stdout",
     "output_type": "stream",
     "text": [
      "curses is not supported on this machine (please install/reinstall curses for an optimal experience)\n"
     ]
    }
   ],
   "source": [
    "# ライブラリのインポート\n",
    "import tensorflow as tf\n",
    "import tflearn\n",
    "import numpy as np\n",
    "\n",
    "# CNNの作成、学習に必要なライブラリのインポート\n",
    "from tflearn.layers.core import input_data, dropout, fully_connected\n",
    "from tflearn.layers.conv import conv_2d, max_pool_2d\n",
    "from tflearn.layers.normalization import local_response_normalization\n",
    "from tflearn.layers.estimator import regression\n",
    "\n",
    "tf.logging.set_verbosity(tf.logging.ERROR) # 警告を非表示にする"
   ]
  },
  {
   "cell_type": "code",
   "execution_count": 2,
   "metadata": {},
   "outputs": [
    {
     "name": "stdout",
     "output_type": "stream",
     "text": [
      "Extracting data/fashion\\train-images-idx3-ubyte.gz\n",
      "Extracting data/fashion\\train-labels-idx1-ubyte.gz\n",
      "Extracting data/fashion\\t10k-images-idx3-ubyte.gz\n",
      "Extracting data/fashion\\t10k-labels-idx1-ubyte.gz\n"
     ]
    }
   ],
   "source": [
    "# Fashion-MNISTをダウンロードしてdata/fashionに格納\n",
    "import tensorflow.examples.tutorials.mnist.input_data as input_d\n",
    "\n",
    "fashion = input_d.read_data_sets(\n",
    "    'data/fashion', # 格納先のフォルダーを作成\n",
    "    source_url='http://fashion-mnist.s3-website.eu-central-1.amazonaws.com/',\n",
    "    one_hot=True    # ラベルをワンホット表現にする\n",
    ")"
   ]
  },
  {
   "cell_type": "code",
   "execution_count": 3,
   "metadata": {},
   "outputs": [
    {
     "name": "stdout",
     "output_type": "stream",
     "text": [
      "(60000, 784)\n",
      "(60000, 10)\n"
     ]
    }
   ],
   "source": [
    "# 訓練用データをすべて抽出\n",
    "x_trains, y_trains = fashion.train.next_batch(60000)\n",
    "print(x_trains.shape)  #出力：(60000, 784)\n",
    "print(y_trains.shape)  #出力：(60000, 10)"
   ]
  },
  {
   "cell_type": "code",
   "execution_count": 4,
   "metadata": {},
   "outputs": [],
   "source": [
    "# 画像データの前処理\n",
    "\n",
    "# (55000,784)の2階テンソルを(None,28,28,1)の4階テンソルに変換\n",
    "x_trains = x_trains.reshape([-1, 28, 28, 1])"
   ]
  },
  {
   "cell_type": "code",
   "execution_count": 5,
   "metadata": {},
   "outputs": [],
   "source": [
    "# 畳み込みネットワークの構築\n",
    "\n",
    "## 初期化\n",
    "tf.reset_default_graph()\n",
    "\n",
    "## 入力層\n",
    "net = input_data(shape=[None, 28, 28, 1])\n",
    "\n",
    "## 中間層\n",
    "# 畳み込み層\n",
    "# （第1層）畳み込み層1\n",
    "# ニューロン数：16\n",
    "# 出力：1ニューロンあたり(28, 28, 1)の3階テンソルを16個出力\n",
    "net = conv_2d(incoming=net,     # 直前の層を設定\n",
    "              nb_filter=16,     # フィルターの数は16\n",
    "              filter_size=3,    # 3×3のフィルターを使用\n",
    "              padding='same',   # ゼロパディングを行う\n",
    "              activation='relu' # 活性化関数はReLU\n",
    "             )\n",
    "\n",
    "# （第2層）畳み込み層2\n",
    "# ニューロン数：32\n",
    "# 出力：1ニューロンあたり(28, 28, 1)の3階テンソルを32個出力\n",
    "net = conv_2d(incoming=net,     # 直前の層を設定\n",
    "              nb_filter=32,     # フィルターの数は32\n",
    "              filter_size=3,    # 3×3のフィルターを使用\n",
    "              padding='same',   # ゼロパディングを行う\n",
    "              activation='relu' # 活性化関数はReLU\n",
    "             )\n",
    "\n",
    "\n",
    "# （第3層）プーリング層1\n",
    "# ユニット数：32\n",
    "# 出力：1ユニットあたり(14, 14, 1)の3階テンソルを32個出力\n",
    "net = max_pool_2d(incoming=net, # 直前の層を設\n",
    "                  kernel_size=2 # 縮小対象の領域は2×2\n",
    "                 )\n",
    "\n",
    "# （第4層）畳み込み層3\n",
    "# ニューロン数：64\n",
    "# 出力：1ニューロンあたり(14, 14, 1)の3階テンソルを64個出力\n",
    "net = conv_2d(incoming=net,     # 直前の層を設定\n",
    "              nb_filter=64,     # フィルターの数\n",
    "              filter_size=3,    # 3×3のフィルターを使用\n",
    "              padding='same',          # ゼロパディングを行う\n",
    "              activation='relu' # 活性化関数はReLU\n",
    "             )\n",
    "\n",
    "# （第5層）プーリング層2\n",
    "# 出力：1ユニットあたり(7, 7, 1)の3階テンソルを64個出力\n",
    "net = max_pool_2d(incoming=net, # 直前の層を設定\n",
    "                  kernel_size=2 # 縮小対象の領域は2×2\n",
    "                 )\n",
    "\n",
    "# ドロップアウト\n",
    "net = dropout(incoming=net,    # 直前の層を設定\n",
    "              keep_prob=0.5    # ドロップアウトは50％\n",
    "             )\n",
    "\n",
    "# （第6層）全結合層\n",
    "# ニューロン数：128\n",
    "# 出力：要素数(128)の1階テンソルを出力\n",
    "# 全結合層\n",
    "net = fully_connected(incoming=net,     # 直前の層を設定\n",
    "                      n_units=128,      # ニューロンの数\n",
    "                      activation='relu' # 活性化関数はReLU\n",
    "                     )\n",
    "\n",
    "# （第7層）出力層\n",
    "# ニューロン数：10\n",
    "# 出力：要素数(10)の1階テンソルを出力\n",
    "net = tflearn.fully_connected(\n",
    "    incoming=net,                  # 直前の層を設定\n",
    "    n_units=10,                    # ニューロンの数\n",
    "    activation='softmax'           # 活性化関数はソフトマックス\n",
    ")\n",
    "\n",
    "# 学習条件の設定\n",
    "net = tflearn.regression(\n",
    "    incoming=net,                  # 対象のモデルを設定\n",
    "    optimizer='adam',              # 最適化の手法はAdam\n",
    "    learning_rate=0.001,           # 学習率\n",
    "    loss='categorical_crossentropy'# 誤差関数は交差エントロピー\n",
    ")"
   ]
  },
  {
   "cell_type": "code",
   "execution_count": 6,
   "metadata": {},
   "outputs": [
    {
     "name": "stdout",
     "output_type": "stream",
     "text": [
      "Training Step: 4799  | total loss: \u001b[1m\u001b[32m0.13860\u001b[0m\u001b[0m | time: 75.962s\n",
      "| Adam | epoch: 010 | loss: 0.13860 - acc: 0.9481 -- iter: 47900/48000\n",
      "Training Step: 4800  | total loss: \u001b[1m\u001b[32m0.13548\u001b[0m\u001b[0m | time: 82.371s\n",
      "| Adam | epoch: 010 | loss: 0.13548 - acc: 0.9493 | val_loss: 0.19633 - val_acc: 0.9320 -- iter: 48000/48000\n",
      "--\n"
     ]
    }
   ],
   "source": [
    "# モデルの作成と学習の実行\n",
    "model = tflearn.DNN(net)      # 作成したCNNと学習条件をセット\n",
    "model.fit(x_trains,           # 訓練データ(画像)\n",
    "          y_trains,           # 訓練データ(ラベル)\n",
    "          n_epoch=10,         # 学習回数\n",
    "          batch_size=100,     # ミニバッチのサイズ\n",
    "          validation_set=0.2, # 訓練データの20%をテストデータに使用\n",
    "          show_metric=True    # 各ステップごとに精度を出力\n",
    "         )"
   ]
  },
  {
   "cell_type": "code",
   "execution_count": null,
   "metadata": {},
   "outputs": [],
   "source": []
  }
 ],
 "metadata": {
  "kernelspec": {
   "display_name": "Python 3",
   "language": "python",
   "name": "python3"
  },
  "language_info": {
   "codemirror_mode": {
    "name": "ipython",
    "version": 3
   },
   "file_extension": ".py",
   "mimetype": "text/x-python",
   "name": "python",
   "nbconvert_exporter": "python",
   "pygments_lexer": "ipython3",
   "version": "3.6.8"
  }
 },
 "nbformat": 4,
 "nbformat_minor": 2
}
