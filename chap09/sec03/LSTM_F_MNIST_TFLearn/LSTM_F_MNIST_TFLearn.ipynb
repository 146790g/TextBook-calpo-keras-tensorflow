{
 "cells": [
  {
   "cell_type": "code",
   "execution_count": 1,
   "metadata": {},
   "outputs": [
    {
     "name": "stdout",
     "output_type": "stream",
     "text": [
      "curses is not supported on this machine (please install/reinstall curses for an optimal experience)\n"
     ]
    }
   ],
   "source": [
    "import tensorflow as tf\n",
    "import tflearn\n",
    "import numpy as np\n",
    "import tensorflow.examples.tutorials.mnist.input_data as input_data\n",
    "tf.logging.set_verbosity(tf.logging.ERROR) # 警告を非表示にする"
   ]
  },
  {
   "cell_type": "code",
   "execution_count": 2,
   "metadata": {},
   "outputs": [
    {
     "name": "stdout",
     "output_type": "stream",
     "text": [
      "Extracting data/fashion\\train-images-idx3-ubyte.gz\n",
      "Extracting data/fashion\\train-labels-idx1-ubyte.gz\n",
      "Extracting data/fashion\\t10k-images-idx3-ubyte.gz\n",
      "Extracting data/fashion\\t10k-labels-idx1-ubyte.gz\n"
     ]
    }
   ],
   "source": [
    "# Fashion-MNISTをダウンロードしてdata/fashionに格納\n",
    "fashion = input_data.read_data_sets(\n",
    "    'data/fashion', # 格納先のフォルダーを作成\n",
    "    source_url='http://fashion-mnist.s3-website.eu-central-1.amazonaws.com/',\n",
    "    one_hot=True    # ラベルをワンホット表現にする\n",
    ")"
   ]
  },
  {
   "cell_type": "code",
   "execution_count": 3,
   "metadata": {},
   "outputs": [
    {
     "name": "stdout",
     "output_type": "stream",
     "text": [
      "(60000, 784)\n",
      "(60000, 10)\n",
      "(10000, 784)\n",
      "(10000, 10)\n"
     ]
    }
   ],
   "source": [
    "# 訓練用データをすべて抽出\n",
    "train_images, train_labels = fashion.train.next_batch(60000)\n",
    "print(train_images.shape)  #出力：(60000, 784)\n",
    "print(train_labels.shape)  #出力：(60000, 10)\n",
    "\n",
    "# テスト用データをすべて抽出\n",
    "test_images, test_labels = fashion.test.next_batch(10000)\n",
    "print(test_images.shape)  #出力：(10000, 784)\n",
    "print(test_labels.shape)  #出力：(10000, 10)"
   ]
  },
  {
   "cell_type": "code",
   "execution_count": 4,
   "metadata": {},
   "outputs": [],
   "source": [
    "# データの前処理\n",
    "# データの前処理（時系列データとして扱えるようにする）\n",
    "# 訓練データ(60000, 784)を(60000, 28, 28)に変換\n",
    "train_images = np.reshape(train_images, (-1, 28, 28))\n",
    "\n",
    "# テストデータ(10000, 784)を(10000, 28, 28)に変換\n",
    "test_images = np.reshape(test_images, (-1, 28, 28))"
   ]
  },
  {
   "cell_type": "code",
   "execution_count": 5,
   "metadata": {},
   "outputs": [],
   "source": [
    "# RNNの構築\n",
    "\n",
    "## 初期化\n",
    "tf.reset_default_graph()\n",
    "\n",
    "## 入力層の作成\n",
    "net = tflearn.input_data(shape=[None, 28, 28])\n",
    "\n",
    "## 中間層の作成\n",
    "# LSTMブロック\n",
    "net = tflearn.lstm(net, 128, dropout=0.25, return_seq=True)\n",
    "net = tflearn.lstm(net, 128, dropout=0.25, return_seq=True)\n",
    "net = tflearn.lstm(net, 128, dropout=0.25, return_seq=False)\n",
    "\n",
    "## 出力層\n",
    "net = tflearn.fully_connected( # 全結合型の層を配置\n",
    "    incoming=net,              # 入力として1つ前の層を指定\n",
    "    n_units=10,                # ニューロン数は10個\n",
    "    activation='softmax'       # 活性化関数はソフトマックス\n",
    ")\n",
    "\n",
    "# 学習条件の設定\n",
    "net = tflearn.regression(\n",
    "    incoming=net,                   # 学習の対象となる層としてnetを指定\n",
    "    optimizer='adam',               # 最適化はAdamアルゴリズムで行う\n",
    "    learning_rate=0.001,            # 学習率\n",
    "    loss='categorical_crossentropy' # 誤差関数はクロスエントロピー誤差\n",
    ")"
   ]
  },
  {
   "cell_type": "code",
   "execution_count": 6,
   "metadata": {},
   "outputs": [
    {
     "name": "stdout",
     "output_type": "stream",
     "text": [
      "Training Step: 29999  | total loss: \u001b[1m\u001b[32m0.53751\u001b[0m\u001b[0m | time: 77.193s\n",
      "| Adam | epoch: 050 | loss: 0.53751 - acc: 0.8107 -- iter: 59900/60000\n",
      "Training Step: 30000  | total loss: \u001b[1m\u001b[32m0.53505\u001b[0m\u001b[0m | time: 77.320s\n",
      "| Adam | epoch: 050 | loss: 0.53505 - acc: 0.8127 -- iter: 60000/60000\n",
      "--\n"
     ]
    }
   ],
   "source": [
    "# モデルの作成と学習の実行\n",
    "model = tflearn.DNN(net)      # 作成したCNNと学習条件をセット\n",
    "model.fit(train_images,       # 訓練データ(画像)\n",
    "          train_labels,       # 訓練データ(ラベル)\n",
    "          n_epoch=50,         # 学習回数\n",
    "          batch_size=100,     # ミニバッチのサイズ\n",
    "          validation_set=None,# 訓練データからテストデータを抽出しない\n",
    "          show_metric=True    # 各ステップごとに精度を出力\n",
    "         )"
   ]
  },
  {
   "cell_type": "code",
   "execution_count": 7,
   "metadata": {},
   "outputs": [
    {
     "name": "stdout",
     "output_type": "stream",
     "text": [
      "[9 2 9 ... 0 9 7]\n",
      "[9 2 9 ... 0 5 5]\n",
      "(10000,)\n",
      "(10000,)\n",
      "0.8331\n"
     ]
    }
   ],
   "source": [
    "# テストデータを使用して予測する\n",
    "pred = np.array(model.predict(test_images)).argmax(axis=1)\n",
    "print(pred)\n",
    "\n",
    "# 正解ラベルを取得\n",
    "label = test_labels.argmax(axis=1)\n",
    "print(label)\n",
    "\n",
    "print(pred.shape)\n",
    "print(label.shape)\n",
    "\n",
    "# 予測値と正解ラベルが一致している割合（精度）\n",
    "accuracy = np.mean(pred == label, axis=0)\n",
    "print(accuracy)"
   ]
  },
  {
   "cell_type": "code",
   "execution_count": null,
   "metadata": {},
   "outputs": [],
   "source": []
  }
 ],
 "metadata": {
  "kernelspec": {
   "display_name": "Python 3",
   "language": "python",
   "name": "python3"
  },
  "language_info": {
   "codemirror_mode": {
    "name": "ipython",
    "version": 3
   },
   "file_extension": ".py",
   "mimetype": "text/x-python",
   "name": "python",
   "nbconvert_exporter": "python",
   "pygments_lexer": "ipython3",
   "version": "3.6.8"
  }
 },
 "nbformat": 4,
 "nbformat_minor": 2
}
