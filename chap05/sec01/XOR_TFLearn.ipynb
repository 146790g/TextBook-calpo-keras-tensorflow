{
 "cells": [
  {
   "cell_type": "code",
   "execution_count": 1,
   "metadata": {},
   "outputs": [
    {
     "name": "stdout",
     "output_type": "stream",
     "text": [
      "curses is not supported on this machine (please install/reinstall curses for an optimal experience)\n"
     ]
    }
   ],
   "source": [
    "import tensorflow as tf\n",
    "import tflearn\n",
    "import numpy as np"
   ]
  },
  {
   "cell_type": "code",
   "execution_count": 2,
   "metadata": {},
   "outputs": [],
   "source": [
    "'''\n",
    "XORゲートの訓練データと正解ラベル\n",
    "'''\n",
    "# XORゲートの入力値　0と1の組み合わせの行列(4, 2)\n",
    "X = np.array([[0, 0], [0, 1], [1, 0], [1, 1]])\n",
    "# XORゲートの出力　正解ラベルの行列(4, 1)\n",
    "T = np.array([[0], [1], [1], [0]])"
   ]
  },
  {
   "cell_type": "code",
   "execution_count": 3,
   "metadata": {},
   "outputs": [],
   "source": [
    "'''\n",
    "モデルの作成\n",
    "'''\n",
    "# ネットワークの初期化\n",
    "tf.reset_default_graph()\n",
    "\n",
    "# バイアスと重みの初期値を-1.0～1.0の範囲に広げる\n",
    "# これをやらないとうまく収束しない\n",
    "tnorm = tflearn.initializations.uniform(minval=-1.0, maxval=1.0)\n",
    "\n",
    "# 入力層：2階テンソル（ユニット数２）\n",
    "net = tflearn.input_data(shape=[None, 2]) # 入力層のユニット数は2個\n",
    "\n",
    "# 隠れ層\n",
    "net = tflearn.fully_connected( # 全結合型の層を配置\n",
    "    incoming=net,              # 入力として1つ前の層を指定\n",
    "    n_units=2,                 # ユニット数は2個\n",
    "    activation='sigmoid',      # 活性化関数\n",
    "    weights_init=tnorm\n",
    "    )\n",
    "\n",
    "# 出力層\n",
    "net = tflearn.fully_connected( # 全結合型の層を配置\n",
    "    incoming=net,              # 入力として1つ前の層を指定\n",
    "    n_units=1,                 # ユニットの数は1個\n",
    "    activation='sigmoid',      # 活性化関数\n",
    "    weights_init=tnorm\n",
    "    )\n",
    "\n",
    "# 学習条件の設定\n",
    "net = tflearn.regression(\n",
    "    incoming=net,              # 学習の対象となる層としてnetを指定\n",
    "    optimizer='sgd',           # オプティマイザー(最適化法)\n",
    "    learning_rate=2,           # 学習率は大き目の2にする\n",
    "    loss='mean_square'         # 誤差関数は平均二乗誤差\n",
    "    )                          # クロスエントロピーでは上手くいかない"
   ]
  },
  {
   "cell_type": "code",
   "execution_count": 4,
   "metadata": {},
   "outputs": [
    {
     "name": "stdout",
     "output_type": "stream",
     "text": [
      "Training Step: 4000  | total loss: \u001b[1m\u001b[32m0.00588\u001b[0m\u001b[0m | time: 0.004s\n",
      "\u001b[2K\r",
      "| SGD | epoch: 4000 | loss: 0.00588 -- iter: 4/4\n"
     ]
    }
   ],
   "source": [
    "# 学習対象のネットワークとしてnetをセット\n",
    "model = tflearn.DNN(net)\n",
    "# 学習の実行\n",
    "model.fit(\n",
    "    X,                   # 訓練データ\n",
    "    T,                   # 正解ラベル\n",
    "    n_epoch=4000,        # 学習回数\n",
    "    batch_size=4,        # 確率的勾配降下法におけるバッチ数\n",
    "    snapshot_epoch=False # モデルのスナップショットの作成は行わない\n",
    "    )"
   ]
  },
  {
   "cell_type": "code",
   "execution_count": 5,
   "metadata": {},
   "outputs": [
    {
     "name": "stdout",
     "output_type": "stream",
     "text": [
      "output probability:\n",
      "[[0.02098208]\n",
      " [0.9759612 ]\n",
      " [0.9765238 ]\n",
      " [0.02834013]]\n",
      "\n",
      "LABEL:\n",
      "[[0]\n",
      " [1]\n",
      " [1]\n",
      " [0]]\n"
     ]
    }
   ],
   "source": [
    "# 入力データに学習結果を適用して最終出力を得る\n",
    "pred = np.array(model.predict(X))\n",
    "print('output probability:')\n",
    "print(pred)\n",
    "\n",
    "# 正解ラベルを出力する\n",
    "print('\\nLABEL:')\n",
    "print(T)"
   ]
  },
  {
   "cell_type": "code",
   "execution_count": null,
   "metadata": {},
   "outputs": [],
   "source": []
  }
 ],
 "metadata": {
  "kernelspec": {
   "display_name": "Python 3",
   "language": "python",
   "name": "python3"
  },
  "language_info": {
   "codemirror_mode": {
    "name": "ipython",
    "version": 3
   },
   "file_extension": ".py",
   "mimetype": "text/x-python",
   "name": "python",
   "nbconvert_exporter": "python",
   "pygments_lexer": "ipython3",
   "version": "3.6.8"
  }
 },
 "nbformat": 4,
 "nbformat_minor": 2
}
