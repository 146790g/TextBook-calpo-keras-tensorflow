{
 "cells": [
  {
   "cell_type": "code",
   "execution_count": 1,
   "metadata": {},
   "outputs": [
    {
     "name": "stderr",
     "output_type": "stream",
     "text": [
      "Using TensorFlow backend.\n"
     ]
    }
   ],
   "source": [
    "import numpy as np\n",
    "from keras.models import Sequential\n",
    "from keras.layers import Dense, Activation\n",
    "from keras.optimizers import SGD"
   ]
  },
  {
   "cell_type": "code",
   "execution_count": 2,
   "metadata": {},
   "outputs": [],
   "source": [
    "'''\n",
    "XORゲートの訓練データと正解ラベル\n",
    "'''\n",
    "# XORゲートの入力値　0と1の組み合わせの行列(4, 2)\n",
    "X = np.array([[0, 0], [0, 1], [1, 0], [1, 1]])\n",
    "# XORゲートの出力　正解ラベルの行列(4, 1)\n",
    "T = np.array([[0], [1], [1], [0]])"
   ]
  },
  {
   "cell_type": "code",
   "execution_count": 3,
   "metadata": {},
   "outputs": [
    {
     "name": "stdout",
     "output_type": "stream",
     "text": [
      "_________________________________________________________________\n",
      "Layer (type)                 Output Shape              Param #   \n",
      "=================================================================\n",
      "dense_1 (Dense)              (None, 2)                 6         \n",
      "_________________________________________________________________\n",
      "dense_2 (Dense)              (None, 1)                 3         \n",
      "=================================================================\n",
      "Total params: 9\n",
      "Trainable params: 9\n",
      "Non-trainable params: 0\n",
      "_________________________________________________________________\n"
     ]
    }
   ],
   "source": [
    "'''\n",
    "モデルの作成\n",
    "'''\n",
    "\n",
    "# 隠れ層\n",
    "model = Sequential()     # Sequentialオブジェクトの生成\n",
    "model.add(Dense(         # 層を追加\n",
    "    units=2,             # ユニット数は2個\n",
    "    input_dim=2,         # 入力層のユニット数は2個\n",
    "    activation='sigmoid' # 活性化関数はシグモイド\n",
    "))\n",
    "\n",
    "# 出力層\n",
    "model.add(Dense(         # 層を追加\n",
    "    units=1,             # ユニット数は1個\n",
    "    activation='sigmoid' # 活性化関数はシグモイ\n",
    "))\n",
    "\n",
    "'''\n",
    "モデルのコンパイル\n",
    "'''\n",
    "model.compile(\n",
    "    loss='binary_crossentropy', # クロスエントロピー誤差関数はバイナリ専用\n",
    "    optimizer=SGD(lr=0.1)       # 最適化に勾配降下法を使用\n",
    ")\n",
    "\n",
    "# モデルのサマリーを表示\n",
    "model.summary()"
   ]
  },
  {
   "cell_type": "code",
   "execution_count": 4,
   "metadata": {},
   "outputs": [],
   "source": [
    "'''\n",
    "モデルの学習\n",
    "'''\n",
    "history = model.fit(X,            # 訓練データ\n",
    "                    T,            # 正解ラベル\n",
    "                    epochs=4000,   # 学習回数\n",
    "                    batch_size=4, # 確率的勾配効果法で仕様するサンプルの数\n",
    "                    verbose=0     # 学習の進捗状況を出力しない\n",
    "                   )"
   ]
  },
  {
   "cell_type": "code",
   "execution_count": 5,
   "metadata": {},
   "outputs": [
    {
     "name": "stdout",
     "output_type": "stream",
     "text": [
      "output probability:\n",
      "[[0.10463054]\n",
      " [0.8030535 ]\n",
      " [0.8036768 ]\n",
      " [0.35124952]]\n",
      "\n",
      "LABEL:\n",
      "[[0]\n",
      " [1]\n",
      " [1]\n",
      " [0]]\n"
     ]
    }
   ],
   "source": [
    "'''\n",
    "学習結果の確認\n",
    "'''\n",
    "# 入力データに学習結果を適用して最終出力を得る\n",
    "pred = model.predict(X, batch_size=4)\n",
    "print('output probability:')\n",
    "print( pred)\n",
    "\n",
    "# 正解ラベルを出力する\n",
    "print('\\nLABEL:')\n",
    "print(T)"
   ]
  },
  {
   "cell_type": "code",
   "execution_count": null,
   "metadata": {
    "scrolled": true
   },
   "outputs": [],
   "source": []
  }
 ],
 "metadata": {
  "kernelspec": {
   "display_name": "Python 3",
   "language": "python",
   "name": "python3"
  },
  "language_info": {
   "codemirror_mode": {
    "name": "ipython",
    "version": 3
   },
   "file_extension": ".py",
   "mimetype": "text/x-python",
   "name": "python",
   "nbconvert_exporter": "python",
   "pygments_lexer": "ipython3",
   "version": "3.6.8"
  }
 },
 "nbformat": 4,
 "nbformat_minor": 2
}
