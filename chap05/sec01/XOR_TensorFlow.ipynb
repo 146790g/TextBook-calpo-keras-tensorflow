{
 "cells": [
  {
   "cell_type": "code",
   "execution_count": 1,
   "metadata": {},
   "outputs": [],
   "source": [
    "import numpy as np\n",
    "import tensorflow as tf"
   ]
  },
  {
   "cell_type": "code",
   "execution_count": 2,
   "metadata": {},
   "outputs": [],
   "source": [
    "'''\n",
    "訓練データと正解ラベル\n",
    "'''\n",
    "train = np.array([[0, 0],  # 0と1の組み合わせの行列(4データ,2列)              \n",
    "                  [0, 1],\n",
    "                  [1, 0],\n",
    "                  [1, 1]])\n",
    "label = np.array([[0],     # 正解ラベル(4データ,1列)\n",
    "                  [1],\n",
    "                  [1],\n",
    "                  [0]])"
   ]
  },
  {
   "cell_type": "code",
   "execution_count": 3,
   "metadata": {},
   "outputs": [],
   "source": [
    "learning_rate = 0.1    # 学習率\n",
    "training_epochs = 4000 # エポック数"
   ]
  },
  {
   "cell_type": "code",
   "execution_count": 4,
   "metadata": {},
   "outputs": [],
   "source": [
    "# データフローグラフ\n",
    "\n",
    "''' \n",
    "入力層(行数可変, 各データのサイズ＝2列)\n",
    "''' \n",
    "xx = tf.placeholder(tf.float32, shape=[None, 2])\n",
    "\n",
    "''' \n",
    "隠れ層（ニューロン数＝2\n",
    "'''\n",
    "# 重み(各データのサイズ＝2行, ニューロン数＝2列)\n",
    "W1 = tf.Variable(tf.truncated_normal([2, 2]))\n",
    "# バイアス(ニューロン数＝2列)\n",
    "b1 = tf.Variable(tf.zeros([2]))\n",
    "# 活性化関数:出力(入力データの行数＝4行, ニューロン数＝2列)\n",
    "out1 = tf.nn.sigmoid(tf.matmul(xx, W1) + b1)\n",
    "\n",
    "''' \n",
    "出力層（ニューロン数＝1）\n",
    "''' \n",
    "# 重み(前層のニューロン数＝2行,クラス数＝ニューロン数＝1列)\n",
    "W2 = tf.Variable(tf.truncated_normal([2, 1]))\n",
    "# バイアス(クラス数＝ニューロン数＝1列)\n",
    "b2 = tf.Variable(tf.zeros([1]))\n",
    "# 活性化関数:出力((前層の出力行数＝4行, 2層のニューロン数＝1列)\n",
    "out2 = tf.nn.sigmoid(tf.matmul(out1, W2) + b2)\n",
    "\n",
    "'''\n",
    "プレースホルダー\n",
    "'''\n",
    "# 正解ラベルを保持するプレースホルダー(行数可変, 列数は正解ラベルと同じ1)\n",
    "t = tf.placeholder(tf.float32, shape=[None, 1])\n",
    "\n",
    "''' \n",
    "ミニマイザーによる最適化\n",
    "''' \n",
    "# 交差エントロピー誤差関数\n",
    "cost =  - tf.reduce_sum(t * tf.log(out2) + (1 - t) * tf.log(1 - out2))\n",
    "# ミニマイザー\n",
    "train_op = tf.train.GradientDescentOptimizer(\n",
    "    learning_rate              # 学習率\n",
    "    ).minimize(cost)           # 最小化問題を解く\n",
    "\n",
    "\n",
    "'''\n",
    "変数の初期化ノード\n",
    "'''\n",
    "init_op = tf.global_variables_initializer()\n",
    "\n",
    "'''\n",
    "テストデータの予測を判定するopノード\n",
    "'''\n",
    "correct_prediction = tf.equal( # 要素ごとに(out2＝t)の真偽値を取得\n",
    "    tf.to_float(tf.greater(    # (out2 > 0.5）の真偽値をfloatに変換\n",
    "        out2,0.5)),\n",
    "    t                          # 正解ラベル\n",
    "    )"
   ]
  },
  {
   "cell_type": "code",
   "execution_count": 5,
   "metadata": {},
   "outputs": [
    {
     "name": "stdout",
     "output_type": "stream",
     "text": [
      "( 500 ) 2.4967477\n",
      "( 1000 ) 0.50661135\n",
      "( 1500 ) 0.1530146\n",
      "( 2000 ) 0.0870377\n",
      "( 2500 ) 0.060298152\n",
      "( 3000 ) 0.04596528\n",
      "( 3500 ) 0.037070498\n",
      "( 4000 ) 0.031027146\n",
      "( 4000 ) 0.031027146\n",
      "Check:\n",
      "[[ True]\n",
      " [ True]\n",
      " [ True]\n",
      " [ True]]\n",
      "Output Probability:\n",
      "[[0.00748971]\n",
      " [0.99000096]\n",
      " [0.9930019 ]\n",
      " [0.00640629]]\n"
     ]
    }
   ],
   "source": [
    "# セッション部\n",
    "with tf.Session() as sess:\n",
    "    sess.run(init_op)              # initノードを実行して変数を初期化\n",
    "\n",
    "    for epoch in range(training_epochs):\n",
    "        err, _ = sess.run(\n",
    "            [cost,                 # 交差エントロピー誤差関数ノードを実行\n",
    "             train_op],            # ミニマイザーを実行\n",
    "             feed_dict={xx: train, # 訓練データのミニバッチ\n",
    "                        t: label   # 正解ラベルのミニバッチ\n",
    "                        }\n",
    "            )\n",
    "\n",
    "        epoch += 1                 # 処理回数として1加算\n",
    "        if epoch % 500 == 0:       # 500回ごとに誤差を出力\n",
    "            print('(',epoch, ')',err)\n",
    "\n",
    "    print('(',epoch, ')',err)      # 学習終了時の誤差を出力\n",
    "    print('Check:')\n",
    "    print(\n",
    "        correct_prediction.eval(   # 学習結果で予測判定する\n",
    "            feed_dict={xx: train,  # 訓練データをセット\n",
    "                       t: label    # 正解ラベルをセット\n",
    "                      }\n",
    "        ))\n",
    "    print('Output Probability:')   # 最終出力を表示\n",
    "    print(\n",
    "        out2.eval(                 # out2ノード(活性化関数)を実行\n",
    "            feed_dict={xx: train}\n",
    "        ))"
   ]
  },
  {
   "cell_type": "code",
   "execution_count": null,
   "metadata": {},
   "outputs": [],
   "source": []
  }
 ],
 "metadata": {
  "kernelspec": {
   "display_name": "Python 3",
   "language": "python",
   "name": "python3"
  },
  "language_info": {
   "codemirror_mode": {
    "name": "ipython",
    "version": 3
   },
   "file_extension": ".py",
   "mimetype": "text/x-python",
   "name": "python",
   "nbconvert_exporter": "python",
   "pygments_lexer": "ipython3",
   "version": "3.6.8"
  }
 },
 "nbformat": 4,
 "nbformat_minor": 2
}
