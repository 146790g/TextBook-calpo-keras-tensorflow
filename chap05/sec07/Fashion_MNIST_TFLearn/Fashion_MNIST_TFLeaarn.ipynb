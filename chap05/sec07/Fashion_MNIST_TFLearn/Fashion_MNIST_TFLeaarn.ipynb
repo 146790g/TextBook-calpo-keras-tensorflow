{
 "cells": [
  {
   "cell_type": "code",
   "execution_count": 1,
   "metadata": {},
   "outputs": [
    {
     "name": "stdout",
     "output_type": "stream",
     "text": [
      "curses is not supported on this machine (please install/reinstall curses for an optimal experience)\n"
     ]
    }
   ],
   "source": [
    "import tensorflow as tf\n",
    "import tflearn\n",
    "import numpy as np\n",
    "import tensorflow.examples.tutorials.mnist.input_data as input_data\n",
    "tf.logging.set_verbosity(tf.logging.ERROR) # 警告を非表示にする"
   ]
  },
  {
   "cell_type": "code",
   "execution_count": 2,
   "metadata": {},
   "outputs": [
    {
     "name": "stdout",
     "output_type": "stream",
     "text": [
      "Extracting data/fashion\\train-images-idx3-ubyte.gz\n",
      "Extracting data/fashion\\train-labels-idx1-ubyte.gz\n",
      "Extracting data/fashion\\t10k-images-idx3-ubyte.gz\n",
      "Extracting data/fashion\\t10k-labels-idx1-ubyte.gz\n"
     ]
    }
   ],
   "source": [
    "# Fashion-MNISTをダウンロードしてdata/fashionに格納\n",
    "fashion = input_data.read_data_sets(\n",
    "    'data/fashion', # 格納先のフォルダーを作成\n",
    "    source_url='http://fashion-mnist.s3-website.eu-central-1.amazonaws.com/',\n",
    "    one_hot=True    # ラベルをワンホット表現にする\n",
    ")"
   ]
  },
  {
   "cell_type": "code",
   "execution_count": 3,
   "metadata": {},
   "outputs": [
    {
     "name": "stdout",
     "output_type": "stream",
     "text": [
      "(60000, 784)\n",
      "(60000, 10)\n"
     ]
    }
   ],
   "source": [
    "# 訓練用データをすべて抽出\n",
    "train_images, train_labels = fashion.train.next_batch(60000)\n",
    "print(train_images.shape)  #出力：(60000, 784)\n",
    "print(train_labels.shape)  #出力：(60000, 10)"
   ]
  },
  {
   "cell_type": "code",
   "execution_count": 4,
   "metadata": {},
   "outputs": [
    {
     "name": "stdout",
     "output_type": "stream",
     "text": [
      "(10000, 784)\n",
      "(10000, 10)\n"
     ]
    }
   ],
   "source": [
    "# テスト用データをすべて抽出\n",
    "test_images, test_labels = fashion.test.next_batch(10000)\n",
    "print(test_images.shape)  #出力：(10000, 784)\n",
    "print(test_labels.shape)  #出力：(10000, 10)"
   ]
  },
  {
   "cell_type": "code",
   "execution_count": 5,
   "metadata": {},
   "outputs": [],
   "source": [
    "#.ニューラルネットワークの作成\n",
    "\n",
    "# ネットワークの初期化\n",
    "tf.reset_default_graph()\n",
    "\n",
    "## 入力層：2階テンソル（ユニット数784）\n",
    "net = tflearn.input_data(shape=[None, 784])\n",
    "\n",
    "## 隠れ層\n",
    "net = tflearn.fully_connected( # 全結合型の層を配置\n",
    "    incoming=net,              # 入力として1つ前の層を指定\n",
    "    n_units=128,               # ニューロン数は2個\n",
    "    activation='relu'          # 活性化関数はReLU\n",
    ")\n",
    "\n",
    "## 出力層\n",
    "net = tflearn.fully_connected( # 全結合型の層を配置\n",
    "    incoming=net,              # 入力として1つ前の層を指定\n",
    "    n_units=10,                # ニューロン数は2個\n",
    "    activation='softmax'       # 活性化関数はソフトマックス\n",
    ")\n",
    "\n",
    "# 学習条件の設定\n",
    "net = tflearn.regression(\n",
    "    incoming=net,                   # 学習の対象となる層としてnetを指定\n",
    "    optimizer='SGD',                # 最適化は確率的勾配降下法で行う\n",
    "    learning_rate=0.5,              # 学習率は大き目の2にする\n",
    "    loss='categorical_crossentropy' # 誤差関数はクロスエントロピー誤差\n",
    ")"
   ]
  },
  {
   "cell_type": "code",
   "execution_count": 6,
   "metadata": {},
   "outputs": [
    {
     "name": "stdout",
     "output_type": "stream",
     "text": [
      "Training Step: 10799  | total loss: \u001b[1m\u001b[32m0.51858\u001b[0m\u001b[0m | time: 3.688s\n",
      "| SGD | epoch: 010 | loss: 0.51858 - acc: 0.8572 -- iter: 53950/54000\n",
      "Training Step: 10800  | total loss: \u001b[1m\u001b[32m0.49973\u001b[0m\u001b[0m | time: 4.743s\n",
      "| SGD | epoch: 010 | loss: 0.49973 - acc: 0.8615 | val_loss: 0.40649 - val_acc: 0.8602 -- iter: 54000/54000\n",
      "--\n"
     ]
    }
   ],
   "source": [
    "# 学習対象のネットワークとしてnetをセット\n",
    "model = tflearn.DNN(net)\n",
    "# 学習の実行\n",
    "model.fit(train_images,       # 訓練データ\n",
    "          train_labels,       # 正解ラベル\n",
    "          n_epoch=10,         # 学習回数\n",
    "          batch_size=50,      # ミニバッチのサイズ\n",
    "          validation_set=0.1, #テスト用データは訓練データの10％\n",
    "          show_metric=True    # ステップごとに精度を出力する\n",
    "         )"
   ]
  },
  {
   "cell_type": "code",
   "execution_count": null,
   "metadata": {},
   "outputs": [],
   "source": []
  }
 ],
 "metadata": {
  "kernelspec": {
   "display_name": "Python 3",
   "language": "python",
   "name": "python3"
  },
  "language_info": {
   "codemirror_mode": {
    "name": "ipython",
    "version": 3
   },
   "file_extension": ".py",
   "mimetype": "text/x-python",
   "name": "python",
   "nbconvert_exporter": "python",
   "pygments_lexer": "ipython3",
   "version": "3.6.8"
  }
 },
 "nbformat": 4,
 "nbformat_minor": 2
}
