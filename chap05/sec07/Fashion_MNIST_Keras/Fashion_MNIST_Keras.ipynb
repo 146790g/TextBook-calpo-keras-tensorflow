{
 "cells": [
  {
   "cell_type": "code",
   "execution_count": 1,
   "metadata": {},
   "outputs": [
    {
     "name": "stderr",
     "output_type": "stream",
     "text": [
      "Using TensorFlow backend.\n"
     ]
    }
   ],
   "source": [
    "import numpy as np\n",
    "# keras.utilsからnp_utilsをインポート\n",
    "from keras.utils import np_utils\n",
    "# Fashion-MNISTデータセットをインポート\n",
    "from keras.datasets import fashion_mnist"
   ]
  },
  {
   "cell_type": "code",
   "execution_count": 2,
   "metadata": {},
   "outputs": [],
   "source": [
    "# Fashion-MNISTデータセットの読み込み\n",
    "(x_train, y_train), (x_test, y_test) = fashion_mnist.load_data()\n",
    "\n",
    "# 訓練データ\n",
    "# 60000x28x28の3次元配列を60000×784の2次元配列に変換\n",
    "x_train = x_train.reshape(60000, 784)\n",
    "# 訓練データをfloat32(浮動小数点数)型に変換\n",
    "x_train = x_train.astype('float32')\n",
    "# データを255で割って0から1.0の範囲に変換\n",
    "x_train = x_train / 255\n",
    "\n",
    "# 正解ラベルの数\n",
    "correct = 10\n",
    "# 正解ラベルをワンホット符号化法で変換\n",
    "y_train = np_utils.to_categorical(y_train, correct)\n",
    "\n",
    "# テストデータ\n",
    "# 10000x28x28の3次元配列を10000×784の2次元配列に変換\n",
    "x_test = x_test.reshape(10000, 784)\n",
    "# テストデータをfloat32(浮動小数点数)型に変換\n",
    "x_test = x_test.astype('float32')\n",
    "# データを255で割って0から1.0の範囲に変換\n",
    "x_test = x_test / 255\n",
    "# 正解ラベルをンホット符号化法で変換\n",
    "y_test = np_utils.to_categorical(y_test, correct)"
   ]
  },
  {
   "cell_type": "code",
   "execution_count": 3,
   "metadata": {},
   "outputs": [],
   "source": [
    "# ニューラルネットワークの構築\n",
    "# keras.modelsからSequentialをインポート\n",
    "from keras.models import Sequential\n",
    "# keras.layersからDense、Activationをインポート\n",
    "from keras.layers import Dense, Activation\n",
    "# keras.optimizersからAdamをインポート\n",
    "from keras.optimizers import SGD\n",
    "\n",
    "# 隠れ層\n",
    "model = Sequential()                 # Sequentialオブジェクトの生成\n",
    "model.add(Dense(200,                 # 隠れ層のニューロン数は200\n",
    "                input_dim=784,       # 入力層のニューロン数は784\n",
    "                activation='relu'    # 活性化関数はReLU\n",
    "               ))\n",
    "# 出力層\n",
    "model.add(Dense(10,                  # 出力層のニューロン数は10\n",
    "                activation='softmax' # 活性化関数は'softmax' \n",
    "               ))\n",
    "\n",
    "# モデルのコンパイル\n",
    "learning_rate = 0.5                  # 学習率\n",
    "model.compile(                       # オブジェクトのコンパイル\n",
    "    loss='categorical_crossentropy', # 損失の基準は交差エントロピー誤差\n",
    "    optimizer=SGD(lr=learning_rate), # 学習方法をSGDにする\n",
    "    metrics=['accuracy']             # 学習評価として正解率を指定\n",
    "    )"
   ]
  },
  {
   "cell_type": "code",
   "execution_count": 4,
   "metadata": {},
   "outputs": [
    {
     "name": "stdout",
     "output_type": "stream",
     "text": [
      "_________________________________________________________________\n",
      "Layer (type)                 Output Shape              Param #   \n",
      "=================================================================\n",
      "dense_1 (Dense)              (None, 200)               157000    \n",
      "_________________________________________________________________\n",
      "dense_2 (Dense)              (None, 10)                2010      \n",
      "=================================================================\n",
      "Total params: 159,010\n",
      "Trainable params: 159,010\n",
      "Non-trainable params: 0\n",
      "_________________________________________________________________\n"
     ]
    }
   ],
   "source": [
    "model.summary() # ニューラルネットワークのサマリー（概要）を出力"
   ]
  },
  {
   "cell_type": "code",
   "execution_count": 5,
   "metadata": {},
   "outputs": [],
   "source": [
    "# 学習回数、ミニバッチのサイズを設定\n",
    "training_epochs = 10 # 学習回数\n",
    "batch_size = 50      # ミニバッチのサイズ"
   ]
  },
  {
   "cell_type": "code",
   "execution_count": 6,
   "metadata": {},
   "outputs": [
    {
     "name": "stdout",
     "output_type": "stream",
     "text": [
      "Train on 60000 samples, validate on 10000 samples\n",
      "Epoch 1/10\n",
      "60000/60000 [==============================] - 3s 52us/step - loss: 0.7360 - acc: 0.7285 - val_loss: 0.5141 - val_acc: 0.8165\n",
      "Epoch 2/10\n",
      "60000/60000 [==============================] - 3s 47us/step - loss: 0.4776 - acc: 0.8236 - val_loss: 0.4872 - val_acc: 0.8220\n",
      "Epoch 3/10\n",
      "60000/60000 [==============================] - 3s 48us/step - loss: 0.4241 - acc: 0.8439 - val_loss: 0.5175 - val_acc: 0.8116\n",
      "Epoch 4/10\n",
      "60000/60000 [==============================] - 3s 48us/step - loss: 0.3914 - acc: 0.8561 - val_loss: 0.4627 - val_acc: 0.8442\n",
      "Epoch 5/10\n",
      "60000/60000 [==============================] - 3s 49us/step - loss: 0.3713 - acc: 0.8635 - val_loss: 0.4173 - val_acc: 0.8526\n",
      "Epoch 6/10\n",
      "60000/60000 [==============================] - 3s 48us/step - loss: 0.3559 - acc: 0.8692 - val_loss: 0.4130 - val_acc: 0.8589\n",
      "Epoch 7/10\n",
      "60000/60000 [==============================] - 3s 51us/step - loss: 0.3430 - acc: 0.8760 - val_loss: 0.3796 - val_acc: 0.8703\n",
      "Epoch 8/10\n",
      "60000/60000 [==============================] - 3s 48us/step - loss: 0.3304 - acc: 0.8788 - val_loss: 0.4032 - val_acc: 0.8544\n",
      "Epoch 9/10\n",
      "60000/60000 [==============================] - 3s 48us/step - loss: 0.3222 - acc: 0.8816 - val_loss: 0.3788 - val_acc: 0.8643\n",
      "Epoch 10/10\n",
      "60000/60000 [==============================] - 3s 48us/step - loss: 0.3122 - acc: 0.8850 - val_loss: 0.3711 - val_acc: 0.8746\n",
      "Test loss: 0.37106143237352374\n",
      "Test accuracy: 0.8746\n",
      "Time:29.621 sec\n"
     ]
    }
   ],
   "source": [
    "# 学習を行って結果を出力\n",
    "import time\n",
    "\n",
    "startTime = time.time()\n",
    "history = model.fit(x_train,           # 訓練データ\n",
    "                    y_train,           # 正解ラベル\n",
    "                    epochs=training_epochs,          # 学習を繰り返す回数\n",
    "                    batch_size=batch_size,    # 勾配計算に用いるサンプル数\n",
    "                    verbose=1,         # 学習の進捗状況を出力する\n",
    "                    validation_data=(\n",
    "                        x_test, y_test # テストデータの指定\n",
    "                    ))\n",
    "# テストデータで学習を評価するデータを取得\n",
    "score = model.evaluate(x_test, y_test, verbose=0)\n",
    "# テストデータの誤り率を出力\n",
    "print('Test loss:', score[0])\n",
    "# テストデータの正解率を出力\n",
    "print('Test accuracy:', score[1])\n",
    "# 処理にかかった時間を出力\n",
    "print(\"Time:{0:.3f} sec\".format(time.time() - startTime))"
   ]
  },
  {
   "cell_type": "code",
   "execution_count": 7,
   "metadata": {},
   "outputs": [
    {
     "data": {
      "image/png": "[encoded data removed]",
      "text/plain": [
       "<Figure size 432x288 with 1 Axes>"
      ]
     },
     "metadata": {
      "needs_background": "light"
     },
     "output_type": "display_data"
    },
    {
     "data": {
      "image/png": "[encoded data removed]",
      "text/plain": [
       "<Figure size 432x288 with 1 Axes>"
      ]
     },
     "metadata": {
      "needs_background": "light"
     },
     "output_type": "display_data"
    }
   ],
   "source": [
    "# 損失（誤り率）、正解率をグラフにする\n",
    "%matplotlib inline\n",
    "import numpy as np\n",
    "import matplotlib.pyplot as plt\n",
    "\n",
    "# 訓練データの損失(誤り率)をプロット\n",
    "plt.plot(history.history['loss'],\n",
    "         label='training',\n",
    "         color='black')\n",
    "# テストデータの損失(誤り率)をプロット\n",
    "plt.plot(history.history['val_loss'],\n",
    "         label='test',\n",
    "         color='red')\n",
    "plt.ylim(0, 1)       # y軸の範囲\n",
    "plt.legend()         # 凡例を表示\n",
    "plt.grid()           # グリッド表示\n",
    "plt.xlabel('epoch')  # x軸ラベル\n",
    "plt.ylabel('loss')   # y軸ラベル\n",
    "plt.show()\n",
    "\n",
    "# 訓練データの正解率をプロット\n",
    "plt.plot(history.history['acc'],\n",
    "         label='training',\n",
    "         color='black')\n",
    "# テストデータの正解率をプロット\n",
    "plt.plot(history.history['val_acc'],\n",
    "         label='test',\n",
    "         color='red')\n",
    "plt.ylim(0.5, 1)     # y軸の範囲\n",
    "plt.legend()         # 凡例を表示\n",
    "plt.grid()           # グリッド表示\n",
    "plt.xlabel('epoch')  # x軸ラベル\n",
    "plt.ylabel('acc')    # y軸ラベル\n",
    "plt.show()"
   ]
  },
  {
   "cell_type": "code",
   "execution_count": null,
   "metadata": {},
   "outputs": [],
   "source": []
  }
 ],
 "metadata": {
  "kernelspec": {
   "display_name": "Python 3",
   "language": "python",
   "name": "python3"
  },
  "language_info": {
   "codemirror_mode": {
    "name": "ipython",
    "version": 3
   },
   "file_extension": ".py",
   "mimetype": "text/x-python",
   "name": "python",
   "nbconvert_exporter": "python",
   "pygments_lexer": "ipython3",
   "version": "3.6.8"
  }
 },
 "nbformat": 4,
 "nbformat_minor": 2
}
