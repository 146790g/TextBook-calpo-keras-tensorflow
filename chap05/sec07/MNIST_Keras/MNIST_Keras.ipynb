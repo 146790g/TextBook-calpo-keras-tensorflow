{
 "cells": [
  {
   "cell_type": "code",
   "execution_count": 1,
   "metadata": {},
   "outputs": [
    {
     "name": "stderr",
     "output_type": "stream",
     "text": [
      "Using TensorFlow backend.\n"
     ]
    }
   ],
   "source": [
    "# NumPyをインポート\n",
    "import numpy as np\n",
    "# keras.utilsからnp_utilsをインポート\n",
    "from keras.utils import np_utils\n",
    "# MNISTデータセットをインポート\n",
    "from keras.datasets import mnist"
   ]
  },
  {
   "cell_type": "code",
   "execution_count": 2,
   "metadata": {},
   "outputs": [],
   "source": [
    "# MNISTデータセットをダウンロードして変数に代入する\n",
    "(x_train, y_train), (x_test, y_test) = mnist.load_data()"
   ]
  },
  {
   "cell_type": "code",
   "execution_count": 3,
   "metadata": {},
   "outputs": [
    {
     "name": "stdout",
     "output_type": "stream",
     "text": [
      "(60000, 28, 28)\n",
      "(60000,)\n",
      "(10000, 28, 28)\n",
      "(10000,)\n"
     ]
    }
   ],
   "source": [
    "# MNISTデータセットの形状を調べる\n",
    "print(x_train.shape)  # 出力：(60000, 28, 28)\n",
    "print(y_train.shape)  # 出力：(60000,)\n",
    "print(x_test.shape)   # 出力：(10000, 28, 28)\n",
    "print(y_test.shape)   # 出力：(10000,)"
   ]
  },
  {
   "cell_type": "code",
   "execution_count": 4,
   "metadata": {
    "scrolled": true
   },
   "outputs": [
    {
     "name": "stdout",
     "output_type": "stream",
     "text": [
      "[[  0   0   0   0   0   0   0   0   0   0   0   0   0   0   0   0   0   0\n",
      "    0   0   0   0   0   0   0   0   0   0]\n",
      " [  0   0   0   0   0   0   0   0   0   0   0   0   0   0   0   0   0   0\n",
      "    0   0   0   0   0   0   0   0   0   0]\n",
      " [  0   0   0   0   0   0   0   0   0   0   0   0   0   0   0   0   0   0\n",
      "    0   0   0   0   0   0   0   0   0   0]\n",
      " [  0   0   0   0   0   0   0   0   0   0   0   0   0   0   0   0   0   0\n",
      "    0   0   0   0   0   0   0   0   0   0]\n",
      " [  0   0   0   0   0   0   0   0   0   0   0   0   0   0   0   0   0   0\n",
      "    0   0   0   0   0   0   0   0   0   0]\n",
      " [  0   0   0   0   0   0   0   0   0   0   0   0   3  18  18  18 126 136\n",
      "  175  26 166 255 247 127   0   0   0   0]\n",
      " [  0   0   0   0   0   0   0   0  30  36  94 154 170 253 253 253 253 253\n",
      "  225 172 253 242 195  64   0   0   0   0]\n",
      " [  0   0   0   0   0   0   0  49 238 253 253 253 253 253 253 253 253 251\n",
      "   93  82  82  56  39   0   0   0   0   0]\n",
      " [  0   0   0   0   0   0   0  18 219 253 253 253 253 253 198 182 247 241\n",
      "    0   0   0   0   0   0   0   0   0   0]\n",
      " [  0   0   0   0   0   0   0   0  80 156 107 253 253 205  11   0  43 154\n",
      "    0   0   0   0   0   0   0   0   0   0]\n",
      " [  0   0   0   0   0   0   0   0   0  14   1 154 253  90   0   0   0   0\n",
      "    0   0   0   0   0   0   0   0   0   0]\n",
      " [  0   0   0   0   0   0   0   0   0   0   0 139 253 190   2   0   0   0\n",
      "    0   0   0   0   0   0   0   0   0   0]\n",
      " [  0   0   0   0   0   0   0   0   0   0   0  11 190 253  70   0   0   0\n",
      "    0   0   0   0   0   0   0   0   0   0]\n",
      " [  0   0   0   0   0   0   0   0   0   0   0   0  35 241 225 160 108   1\n",
      "    0   0   0   0   0   0   0   0   0   0]\n",
      " [  0   0   0   0   0   0   0   0   0   0   0   0   0  81 240 253 253 119\n",
      "   25   0   0   0   0   0   0   0   0   0]\n",
      " [  0   0   0   0   0   0   0   0   0   0   0   0   0   0  45 186 253 253\n",
      "  150  27   0   0   0   0   0   0   0   0]\n",
      " [  0   0   0   0   0   0   0   0   0   0   0   0   0   0   0  16  93 252\n",
      "  253 187   0   0   0   0   0   0   0   0]\n",
      " [  0   0   0   0   0   0   0   0   0   0   0   0   0   0   0   0   0 249\n",
      "  253 249  64   0   0   0   0   0   0   0]\n",
      " [  0   0   0   0   0   0   0   0   0   0   0   0   0   0  46 130 183 253\n",
      "  253 207   2   0   0   0   0   0   0   0]\n",
      " [  0   0   0   0   0   0   0   0   0   0   0   0  39 148 229 253 253 253\n",
      "  250 182   0   0   0   0   0   0   0   0]\n",
      " [  0   0   0   0   0   0   0   0   0   0  24 114 221 253 253 253 253 201\n",
      "   78   0   0   0   0   0   0   0   0   0]\n",
      " [  0   0   0   0   0   0   0   0  23  66 213 253 253 253 253 198  81   2\n",
      "    0   0   0   0   0   0   0   0   0   0]\n",
      " [  0   0   0   0   0   0  18 171 219 253 253 253 253 195  80   9   0   0\n",
      "    0   0   0   0   0   0   0   0   0   0]\n",
      " [  0   0   0   0  55 172 226 253 253 253 253 244 133  11   0   0   0   0\n",
      "    0   0   0   0   0   0   0   0   0   0]\n",
      " [  0   0   0   0 136 253 253 253 212 135 132  16   0   0   0   0   0   0\n",
      "    0   0   0   0   0   0   0   0   0   0]\n",
      " [  0   0   0   0   0   0   0   0   0   0   0   0   0   0   0   0   0   0\n",
      "    0   0   0   0   0   0   0   0   0   0]\n",
      " [  0   0   0   0   0   0   0   0   0   0   0   0   0   0   0   0   0   0\n",
      "    0   0   0   0   0   0   0   0   0   0]\n",
      " [  0   0   0   0   0   0   0   0   0   0   0   0   0   0   0   0   0   0\n",
      "    0   0   0   0   0   0   0   0   0   0]]\n",
      "5\n"
     ]
    }
   ],
   "source": [
    "# x_trainsに格納されている1つ目の画像データを出力\n",
    "print(x_train[0])\n",
    "print(y_train[0])"
   ]
  },
  {
   "cell_type": "code",
   "execution_count": 5,
   "metadata": {},
   "outputs": [
    {
     "data": {
      "image/png": "[encoded data removed]",
      "text/plain": [
       "<Figure size 864x230.4 with 3 Axes>"
      ]
     },
     "metadata": {
      "needs_background": "light"
     },
     "output_type": "display_data"
    }
   ],
   "source": [
    "# 先頭から3つ目までの手書き数字と正解ラベルを出力する\n",
    "\n",
    "# グラフをNotebook上に出力する\n",
    "%matplotlib inline\n",
    "import numpy as np\n",
    "import matplotlib.pyplot as plt\n",
    "\n",
    "plt.ﬁgure(1, ﬁgsize=(12, 3.2))\n",
    "plt.subplots_adjust(wspace=0.5)\n",
    "plt.gray()\n",
    "for id in range(3):\n",
    "    plt.subplot(1, 3, id + 1)\n",
    "    # 784個のRGB値を28×28の行列に変換する\n",
    "    img = x_train[id, :, :].reshape(28, 28)\n",
    "    # 色相を反転させてプロットする\n",
    "    plt.pcolor(255 - img)\n",
    "    # 画像の正解値をプロット\n",
    "    plt.text(24, 26, \"%d\" % y_train[id],\n",
    "             color='blue', fontsize=20)\n",
    "    plt.xlim(0, 27) # x軸を0~28の範囲\n",
    "    plt.ylim(27, 0) # y軸を28~0の範囲\n",
    "plt.show()"
   ]
  },
  {
   "cell_type": "code",
   "execution_count": 6,
   "metadata": {},
   "outputs": [],
   "source": [
    "# データの前処理\n",
    "\n",
    "# 訓練データ(60000, 28, 28)の3階テンソルを(60000, 784)の2階テンソルに変換\n",
    "x_train = x_train.reshape(60000, 784)\n",
    "# float32(浮動小数点数)型に変換\n",
    "x_train = x_train.astype('float32')\n",
    "# データを255で割って0から1.0の範囲に変換\n",
    "x_train = x_train / 255\n",
    "# テストデータ(10000, 28, 28)の3階テンソルを(10000, 784)の2階テンソルに変換\n",
    "x_test = x_test.reshape(10000, 784)\n",
    "# テストデータをfloat32(浮動小数点数)型に変換\n",
    "x_test = x_test.astype('float32')\n",
    "# データを255で割って0から1.0の範囲に変換\n",
    "x_test = x_test / 255\n",
    "\n",
    "# 正解ラベルの数\n",
    "correct = 10\n",
    "# 訓練データの正解ラベルをワンホット符号化法で変換\n",
    "y_train = np_utils.to_categorical(y_train, correct)\n",
    "# テストデータの正解ラベルをワンホット符号化法で変換\n",
    "y_test = np_utils.to_categorical(y_test, correct)"
   ]
  },
  {
   "cell_type": "code",
   "execution_count": 7,
   "metadata": {},
   "outputs": [
    {
     "name": "stdout",
     "output_type": "stream",
     "text": [
      "_________________________________________________________________\n",
      "Layer (type)                 Output Shape              Param #   \n",
      "=================================================================\n",
      "dense_1 (Dense)              (None, 200)               157000    \n",
      "_________________________________________________________________\n",
      "dense_2 (Dense)              (None, 10)                2010      \n",
      "=================================================================\n",
      "Total params: 159,010\n",
      "Trainable params: 159,010\n",
      "Non-trainable params: 0\n",
      "_________________________________________________________________\n"
     ]
    }
   ],
   "source": [
    "# ニューラルネットワークの構築\n",
    "# keras.modelsからSequentialをインポート\n",
    "from keras.models import Sequential\n",
    "# keras.layersからDense、Activationをインポート\n",
    "from keras.layers import Dense, Activation\n",
    "# keras.optimizersからSGDをインポート\n",
    "from keras.optimizers import SGD\n",
    "\n",
    "model = Sequential()                 # Sequentialオブジェクトの生成\n",
    "\n",
    "## 隠れ層\n",
    "model.add(Dense(200,                 # 隠れ層のニューロン数は200\n",
    "                input_dim=784,       # 入力層のニューロン数は784\n",
    "                activation='relu'    # 活性化関数はReLU\n",
    "               ))\n",
    "\n",
    "## 出力層\n",
    "model.add(Dense(10,                  # 出力層のニューロン数は10\n",
    "                activation='sigmoid' # 活性化関数はsigmoid\n",
    "               ))\n",
    "\n",
    "\n",
    "# モデルオブジェクトのコンパイル\n",
    "learning_rate = 0.5                  # 学習率\n",
    "model.compile(                       # オブジェクトのコンパイル\n",
    "    loss='categorical_crossentropy', # 損失の基準は交差エントロピー誤差\n",
    "    optimizer=SGD(lr=learning_rate), # 学習方法を確率的勾配降下法にする\n",
    "    metrics=['accuracy']             # 学習評価として正解率を指定\n",
    "    )\n",
    "model.summary() # ニューラルネットワークのサマリー（概要）を出力"
   ]
  },
  {
   "cell_type": "code",
   "execution_count": 8,
   "metadata": {},
   "outputs": [
    {
     "name": "stdout",
     "output_type": "stream",
     "text": [
      "Train on 60000 samples, validate on 10000 samples\n",
      "Epoch 1/5\n",
      "60000/60000 [==============================] - 2s 27us/step - loss: 0.3192 - acc: 0.9061 - val_loss: 0.1234 - val_acc: 0.9624\n",
      "Epoch 2/5\n",
      "60000/60000 [==============================] - 1s 25us/step - loss: 0.1172 - acc: 0.9662 - val_loss: 0.0965 - val_acc: 0.9703\n",
      "Epoch 3/5\n",
      "60000/60000 [==============================] - 1s 24us/step - loss: 0.0832 - acc: 0.9759 - val_loss: 0.0849 - val_acc: 0.9740\n",
      "Epoch 4/5\n",
      "60000/60000 [==============================] - 1s 24us/step - loss: 0.0619 - acc: 0.9815 - val_loss: 0.0724 - val_acc: 0.9774\n",
      "Epoch 5/5\n",
      "60000/60000 [==============================] - 2s 26us/step - loss: 0.0501 - acc: 0.9848 - val_loss: 0.0779 - val_acc: 0.9757\n",
      "Test loss: 0.07786955690863542\n",
      "Test accuracy: 0.9757\n",
      "Time:8.045 sec\n"
     ]
    }
   ],
   "source": [
    "# 学習を行って結果を出力\n",
    "# 時間を計測するライブラリをインポート\n",
    "import time\n",
    "\n",
    "startTime = time.time()\n",
    "history = model.fit(x_train,           # 訓練データ\n",
    "                    y_train,           # 正解ラベル\n",
    "                    epochs=5,          # 学習を繰り返す回数\n",
    "                    batch_size=100,    # 勾配計算に用いるサンプル数\n",
    "                    verbose=1,         # 学習の進捗状況を出力する\n",
    "                    validation_data=(\n",
    "                        x_test, y_test # テストデータの指定\n",
    "                    ))\n",
    "# テストデータで学習を評価するデータを取得\n",
    "score = model.evaluate(x_test, y_test, verbose=0)\n",
    "# テストデータの誤り率を出力\n",
    "print('Test loss:', score[0])\n",
    "# テストデータの正解率を出力\n",
    "print('Test accuracy:', score[1])\n",
    "# 処理にかかった時間を出力\n",
    "print(\"Time:{0:.3f} sec\".format(time.time() - startTime))"
   ]
  },
  {
   "cell_type": "code",
   "execution_count": 9,
   "metadata": {},
   "outputs": [
    {
     "data": {
      "image/png": "[encoded data removed]",
      "text/plain": [
       "<Figure size 720x288 with 2 Axes>"
      ]
     },
     "metadata": {
      "needs_background": "light"
     },
     "output_type": "display_data"
    }
   ],
   "source": [
    "# 損失（誤り率）、正解率をグラフにする\n",
    "\n",
    "# プロット図のサイズを設定\n",
    "plt.ﬁgure(ﬁgsize=(10, 4))\n",
    "# プロット図を縮小して図の間のスペースを空ける\n",
    "plt.subplots_adjust(wspace=0.5)\n",
    "\n",
    "# 1×2のグリッドの左(1,2,1)の領域にプロット\n",
    "plt.subplot(1, 2, 1)\n",
    "# 訓練データの損失(誤り率)をプロット\n",
    "plt.plot(history.history['loss'],\n",
    "         label='training',\n",
    "         color='black')\n",
    "# テストデータの損失(誤り率)をプロット\n",
    "plt.plot(history.history['val_loss'],\n",
    "         label='test',\n",
    "         color='red')\n",
    "plt.ylim(0, 1)       # y軸の範囲\n",
    "plt.legend()         # 凡例を表示\n",
    "plt.grid()           # グリッド表示\n",
    "plt.xlabel('epoch')  # x軸ラベル\n",
    "plt.ylabel('loss')   # y軸ラベル\n",
    "\n",
    "# 1×2のグリッドの右(1,2,21)の領域にプロット\n",
    "plt.subplot(1, 2, 2)\n",
    "# 訓練データの正解率をプロット\n",
    "plt.plot(history.history['acc'],\n",
    "         label='training',\n",
    "         color='black')\n",
    "# テストデータの正解率をプロット\n",
    "plt.plot(history.history['val_acc'],\n",
    "         label='test',\n",
    "         color='red')\n",
    "plt.ylim(0.5, 1)     # y軸の範囲\n",
    "plt.legend()         # 凡例を表示\n",
    "plt.grid()           # グリッド表示\n",
    "plt.xlabel('epoch')  # x軸ラベル\n",
    "plt.ylabel('acc')    # y軸ラベル\n",
    "plt.show()"
   ]
  }
 ],
 "metadata": {
  "kernelspec": {
   "display_name": "Python 3",
   "language": "python",
   "name": "python3"
  },
  "language_info": {
   "codemirror_mode": {
    "name": "ipython",
    "version": 3
   },
   "file_extension": ".py",
   "mimetype": "text/x-python",
   "name": "python",
   "nbconvert_exporter": "python",
   "pygments_lexer": "ipython3",
   "version": "3.6.8"
  }
 },
 "nbformat": 4,
 "nbformat_minor": 2
}
