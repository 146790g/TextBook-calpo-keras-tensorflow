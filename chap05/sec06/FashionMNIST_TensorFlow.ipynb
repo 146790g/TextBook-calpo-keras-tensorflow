{
 "cells": [
  {
   "cell_type": "code",
   "execution_count": 1,
   "metadata": {},
   "outputs": [],
   "source": [
    "# パッケージのインポート\n",
    "import tensorflow as tf\n",
    "import numpy as np\n",
    "#from tensorflow.contrib.learn.python.learn.datasets.mnist import read_data_sets\n",
    "import tensorflow.examples.tutorials.mnist.input_data as input_data\n",
    "tf.logging.set_verbosity(tf.logging.ERROR)"
   ]
  },
  {
   "cell_type": "code",
   "execution_count": 2,
   "metadata": {
    "scrolled": false
   },
   "outputs": [
    {
     "name": "stdout",
     "output_type": "stream",
     "text": [
      "Extracting data/fashion\\train-images-idx3-ubyte.gz\n",
      "Extracting data/fashion\\train-labels-idx1-ubyte.gz\n",
      "Extracting data/fashion\\t10k-images-idx3-ubyte.gz\n",
      "Extracting data/fashion\\t10k-labels-idx1-ubyte.gz\n"
     ]
    }
   ],
   "source": [
    "# Fashion-MNISTをダウンロードしてdata/fashionに格納\n",
    "fashion = input_data.read_data_sets(\n",
    "    'data/fashion', # 格納先のフォルダーを作成\n",
    "    source_url='http://fashion-mnist.s3-website.eu-central-1.amazonaws.com/',\n",
    "    one_hot=True    # ラベルをワンホット表現にする\n",
    ")"
   ]
  },
  {
   "cell_type": "code",
   "execution_count": 3,
   "metadata": {
    "scrolled": false
   },
   "outputs": [
    {
     "name": "stdout",
     "output_type": "stream",
     "text": [
      "(60000, 784)\n",
      "(60000, 10)\n",
      "tf_type: <class 'tuple'>\n",
      "tf_length: 2\n",
      "test_images_shape: (3, 784)\n",
      "test_labels_shape: (3, 10)\n"
     ]
    }
   ],
   "source": [
    "# データセットを確認\n",
    "# テスト用データをすべて抽出\n",
    "ft=fashion.train.next_batch(60000)\n",
    "print(ft[0].shape)  #出力：(10000, 784)\n",
    "print(ft[1].shape)  #出力：(10000, 10)\n",
    "\n",
    "ft = fashion.train.next_batch(3)         # 訓練データを3個抽出\n",
    "print('tf_type:', type(ft))              # 出力：tf_type: <class 'tuple'>\n",
    "print('tf_length:', len(ft))             # 出力：tf_length: 2\n",
    "print('test_images_shape:', ft[0].shape) # 出力：test_images_shape: (3, 784)\n",
    "print('test_labels_shape:', ft[1].shape) # 出力：test_labels_shape: (3, 10)"
   ]
  },
  {
   "cell_type": "code",
   "execution_count": 4,
   "metadata": {
    "scrolled": true
   },
   "outputs": [
    {
     "name": "stdout",
     "output_type": "stream",
     "text": [
      "test_images:\n",
      " [0.         0.         0.         0.         0.         0.\n",
      " 0.         0.         0.         0.         0.         0.\n",
      " 0.         0.         0.         0.         0.         0.\n",
      " 0.         0.         0.         0.         0.         0.\n",
      " 0.         0.         0.         0.         0.         0.\n",
      " 0.         0.         0.         0.         0.         0.\n",
      " 0.         0.         0.         0.         0.         0.\n",
      " 0.         0.         0.         0.         0.         0.\n",
      " 0.         0.         0.         0.         0.         0.\n",
      " 0.         0.         0.         0.         0.         0.\n",
      " 0.         0.         0.         0.         0.         0.\n",
      " 0.         0.         0.         0.         0.         0.\n",
      " 0.         0.         0.         0.         0.         0.\n",
      " 0.         0.         0.         0.         0.         0.\n",
      " 0.         0.         0.         0.         0.         0.\n",
      " 0.         0.         0.         0.         0.         0.\n",
      " 0.         0.         0.         0.         0.         0.\n",
      " 0.         0.         0.         0.         0.         0.\n",
      " 0.         0.         0.         0.         0.         0.\n",
      " 0.         0.         0.         0.         0.         0.\n",
      " 0.         0.         0.         0.         0.         0.\n",
      " 0.         0.         0.         0.         0.         0.\n",
      " 0.         0.         0.         0.         0.         0.\n",
      " 0.         0.         0.         0.         0.00392157 0.01960784\n",
      " 0.         0.         0.         0.         0.         0.\n",
      " 0.         0.         0.         0.         0.         0.\n",
      " 0.         0.         0.         0.         0.         0.\n",
      " 0.         0.00784314 0.         0.00392157 0.         0.\n",
      " 0.         0.         0.         0.         0.         0.\n",
      " 0.09803922 0.4039216  0.41176474 0.49411768 0.4901961  0.4431373\n",
      " 0.53333336 0.4901961  0.54901963 0.627451   0.454902   0.6117647\n",
      " 0.4156863  0.44705886 0.30980393 0.04705883 0.         0.\n",
      " 0.         0.         0.         0.         0.         0.11764707\n",
      " 0.43529415 0.18039216 0.3019608  0.67058825 0.53333336 0.6392157\n",
      " 0.58431375 0.5764706  0.64705884 0.54509807 0.6156863  0.54509807\n",
      " 0.54901963 0.5686275  0.53333336 0.62352943 0.54901963 0.62352943\n",
      " 0.6156863  0.5568628  0.427451   0.29411766 0.5058824  0.\n",
      " 0.00392157 0.         0.         0.         0.61960787 0.6392157\n",
      " 0.5372549  0.61960787 0.4666667  0.54509807 0.50980395 0.4901961\n",
      " 0.5411765  0.3647059  0.52156866 0.39607847 0.48627454 0.5803922\n",
      " 0.3372549  0.60784316 0.47450984 0.5686275  0.5294118  0.48627454\n",
      " 0.61960787 0.5568628  0.36862746 0.         0.01568628 0.\n",
      " 0.02352941 0.30588236 0.41960788 0.6862745  0.6313726  0.6509804\n",
      " 0.5647059  0.69411767 0.7176471  0.69411767 0.5568628  0.47450984\n",
      " 0.5647059  0.6431373  0.7019608  0.7294118  0.7568628  0.62352943\n",
      " 0.67058825 0.654902   0.654902   0.6431373  0.7058824  0.7137255\n",
      " 0.23137257 0.03529412 0.         0.         0.227451   0.14117648\n",
      " 0.72156864 0.6509804  0.59607846 0.854902   0.3372549  0.75294125\n",
      " 0.5882353  0.3372549  0.7843138  0.30980393 0.70980394 0.5058824\n",
      " 0.41176474 0.76470596 0.2627451  0.7843138  0.33333334 0.454902\n",
      " 0.60784316 0.27450982 0.8000001  0.5686275  0.19215688 0.27450982\n",
      " 0.         0.         0.25490198 0.02352941 0.60784316 0.8196079\n",
      " 0.83921576 0.7294118  0.82745105 0.6745098  0.7607844  0.86274517\n",
      " 0.8196079  0.9333334  0.8588236  0.8431373  0.8352942  0.7607844\n",
      " 0.85098046 0.7843138  0.8941177  0.90196085 0.8000001  0.8352942\n",
      " 0.82745105 0.7372549  0.47058827 0.18431373 0.         0.00392157\n",
      " 0.5372549  0.3019608  0.67058825 0.63529414 0.5921569  0.98823535\n",
      " 0.25490198 0.909804   0.62352943 0.5137255  0.9333334  0.3803922\n",
      " 0.86666673 0.61960787 0.5529412  0.8196079  0.41960788 0.8470589\n",
      " 0.5764706  0.65882355 0.93725497 0.5921569  0.85098046 0.6431373\n",
      " 0.3647059  0.6313726  0.05882353 0.         0.5019608  0.15294118\n",
      " 0.7568628  0.7372549  0.6862745  0.8431373  0.7607844  0.854902\n",
      " 0.7843138  0.7019608  0.87843144 0.60784316 0.86666673 0.69803923\n",
      " 0.62352943 0.80392164 0.5568628  0.854902   0.62352943 0.67058825\n",
      " 0.8470589  0.53333336 0.8745099  0.6        0.4784314  0.5882353\n",
      " 0.0627451  0.         0.01960784 0.         0.8000001  0.7607844\n",
      " 0.7058824  0.82745105 0.8352942  0.9058824  0.83921576 0.87843144\n",
      " 0.8941177  0.8470589  0.8588236  0.86666673 0.86274517 0.86666673\n",
      " 0.9058824  0.86274517 0.8862746  0.8705883  0.86274517 0.86666673\n",
      " 0.8470589  0.8352942  0.36078432 0.61960787 0.37647063 0.\n",
      " 0.2509804  0.01568628 0.98823535 0.6        0.5647059  0.7843138\n",
      " 0.21176472 0.98823535 0.43529415 0.45882356 0.909804   0.20784315\n",
      " 0.95294124 0.48235297 0.45098042 0.98823535 0.20784315 0.93725497\n",
      " 0.49411768 0.5058824  0.8941177  0.23529413 0.9333334  0.43529415\n",
      " 0.38823533 0.75294125 0.6156863  0.         0.3137255  0.00392157\n",
      " 0.7725491  0.79215693 0.7725491  0.85098046 1.         0.85098046\n",
      " 0.95294124 0.94117653 0.87843144 0.97647065 0.87843144 0.9490197\n",
      " 0.94117653 0.91372555 0.9686275  0.882353   0.9607844  0.91372555\n",
      " 0.8862746  0.9294118  0.85098046 0.854902   0.4901961  0.5647059\n",
      " 0.6509804  0.         0.34901962 0.         0.7960785  0.5529412\n",
      " 0.7137255  0.8470589  0.5058824  0.9568628  0.62352943 0.74509805\n",
      " 0.8980393  0.5529412  0.9490197  0.6313726  0.7137255  0.86666673\n",
      " 0.56078434 0.92549026 0.6431373  0.7607844  0.8588236  0.58431375\n",
      " 0.8196079  0.6117647  0.627451   0.5137255  0.8431373  0.1764706\n",
      " 0.36862746 0.10196079 0.75294125 0.68235296 0.7960785  0.7607844\n",
      " 0.5529412  0.9490197  0.57254905 0.7254902  0.86274517 0.44705886\n",
      " 0.9607844  0.56078434 0.6784314  0.8941177  0.43921572 0.8862746\n",
      " 0.6431373  0.75294125 0.82745105 0.6627451  0.7607844  0.6666667\n",
      " 0.654902   0.         0.74509805 0.2509804  0.32156864 0.03137255\n",
      " 0.73333335 0.7686275  0.7960785  0.7803922  0.7607844  0.7843138\n",
      " 0.79215693 0.7725491  0.78823537 0.8352942  0.78823537 0.7960785\n",
      " 0.7960785  0.7725491  0.8235295  0.77647066 0.8431373  0.8196079\n",
      " 0.85098046 0.882353   0.75294125 0.70980394 0.6745098  0.\n",
      " 0.8235295  0.34117648 0.3137255  0.         0.36078432 0.61960787\n",
      " 0.7843138  0.8000001  0.6156863  0.91372555 0.627451   0.7686275\n",
      " 0.8235295  0.6039216  0.854902   0.654902   0.7294118  0.80392164\n",
      " 0.57254905 0.8705883  0.5764706  0.75294125 0.6901961  0.61960787\n",
      " 0.73333335 0.7686275  0.40784317 0.         0.7411765  0.2392157\n",
      " 0.23137257 0.12941177 0.00392157 0.7568628  0.61960787 0.31764707\n",
      " 0.454902   0.40000004 0.4784314  0.47450984 0.5137255  0.5176471\n",
      " 0.6509804  0.47450984 0.5372549  0.5176471  0.3529412  0.1764706\n",
      " 0.05490196 0.10980393 0.05490196 0.01176471 0.09411766 0.6745098\n",
      " 0.74509805 0.5529412  0.62352943 0.04313726 0.03137255 0.07450981\n",
      " 0.10196079 0.09411766 0.08235294 0.06666667 0.0627451  0.04313726\n",
      " 0.07450981 0.04705883 0.00392157 0.00392157 0.02745098 0.\n",
      " 0.         0.         0.         0.         0.         0.\n",
      " 0.         0.         0.         0.         0.19215688 0.39607847\n",
      " 0.0627451  0.         0.         0.         0.         0.\n",
      " 0.         0.         0.         0.         0.         0.\n",
      " 0.         0.         0.         0.         0.         0.\n",
      " 0.         0.         0.         0.         0.         0.\n",
      " 0.         0.         0.         0.         0.         0.\n",
      " 0.         0.         0.         0.         0.         0.\n",
      " 0.         0.         0.         0.         0.         0.\n",
      " 0.         0.         0.         0.         0.         0.\n",
      " 0.         0.         0.         0.         0.         0.\n",
      " 0.         0.         0.         0.         0.         0.\n",
      " 0.         0.         0.         0.         0.         0.\n",
      " 0.         0.         0.         0.         0.         0.\n",
      " 0.         0.         0.         0.         0.         0.\n",
      " 0.         0.         0.         0.         0.         0.\n",
      " 0.         0.         0.         0.         0.         0.\n",
      " 0.         0.         0.         0.         0.         0.\n",
      " 0.         0.         0.         0.         0.         0.\n",
      " 0.         0.         0.         0.         0.         0.\n",
      " 0.         0.         0.         0.         0.         0.\n",
      " 0.         0.         0.         0.         0.         0.\n",
      " 0.         0.         0.         0.         0.         0.\n",
      " 0.         0.         0.         0.         0.         0.\n",
      " 0.         0.         0.         0.         0.         0.\n",
      " 0.         0.         0.         0.        ]\n"
     ]
    }
   ],
   "source": [
    "# 画像データの行列を出力\n",
    "print('test_images:\\n', ft[0][0])"
   ]
  },
  {
   "cell_type": "code",
   "execution_count": 5,
   "metadata": {
    "scrolled": true
   },
   "outputs": [
    {
     "name": "stdout",
     "output_type": "stream",
     "text": [
      "test_labels:\n",
      " [0. 0. 0. 0. 0. 0. 0. 0. 1. 0.]\n"
     ]
    }
   ],
   "source": [
    "# ワンホット表現の正解ラベルを出力\n",
    "print('test_labels:\\n', ft[1][0])"
   ]
  },
  {
   "cell_type": "code",
   "execution_count": 6,
   "metadata": {
    "scrolled": false
   },
   "outputs": [
    {
     "data": {
      "image/png": "[encoded data removed]",
      "text/plain": [
       "<Figure size 936x288 with 3 Axes>"
      ]
     },
     "metadata": {
      "needs_background": "light"
     },
     "output_type": "display_data"
    },
    {
     "name": "stdout",
     "output_type": "stream",
     "text": [
      "[0. 0. 0. 0. 0. 0. 0. 0. 1. 0.]\n",
      "[0. 0. 0. 0. 0. 0. 1. 0. 0. 0.]\n",
      "[0. 0. 0. 0. 0. 1. 0. 0. 0. 0.]\n"
     ]
    }
   ],
   "source": [
    "# 抽出したデータを出力（プロット）\n",
    "%matplotlib inline\n",
    "import matplotlib.pyplot as plt\n",
    "\n",
    "# グラフエリアのサイズを3×3にする\n",
    "plt.ﬁgure(ﬁgsize=(13, 4))\n",
    "# グレースケールにする\n",
    "plt.gray()\n",
    "\n",
    "## 1番目の訓練データを描画\n",
    "plt.subplot(131)\n",
    "# 1番目の784個のピクセル値を28×28の行列にする\n",
    "img = ft[0][0].reshape(28, 28)\n",
    "# 色相を反転させてプロットする\n",
    "plt.pcolor(255 - img)\n",
    "plt.xlim(0, 27)   # x軸を0~28の範囲\n",
    "plt.ylim(27, 0)   # y軸を28~0の範囲\n",
    "\n",
    "## 2番目の訓練データを描画\n",
    "plt.subplot(132)\n",
    "# 2番目の784個のピクセル値を28×28の行列にする\n",
    "img = ft[0][1].reshape(28, 28)\n",
    "# 色相を反転させてプロットする\n",
    "plt.pcolor(255 - img)\n",
    "plt.xlim(0, 27)   # x軸を0~28の範囲\n",
    "plt.ylim(27, 0)   # y軸を28~0の範囲\n",
    "\n",
    "## 3番目の訓練データを描画\n",
    "plt.subplot(133)\n",
    "# 3番目の784個のピクセル値を28×28の行列にする\n",
    "img = ft[0][2].reshape(28, 28)\n",
    "# 色相を反転させてプロットする\n",
    "plt.pcolor(255 - img)\n",
    "plt.xlim(0, 27)   # x軸を0~28の範囲\n",
    "plt.ylim(27, 0)   # y軸を28~0の範囲\n",
    "\n",
    "plt.show()\n",
    "\n",
    "print(ft[1][0])   # 1番目の正解ラベルを出力\n",
    "print(ft[1][1])   # 2番目の正解ラベルを出力\n",
    "print(ft[1][2])   # 3番目の正解ラベルを出力"
   ]
  },
  {
   "cell_type": "code",
   "execution_count": 7,
   "metadata": {},
   "outputs": [
    {
     "name": "stdout",
     "output_type": "stream",
     "text": [
      "(10000, 784)\n",
      "(10000, 10)\n"
     ]
    }
   ],
   "source": [
    "# テスト用データをすべて抽出\n",
    "test_images, test_labels = fashion.test.next_batch(10000)\n",
    "print(test_images.shape)  #出力：(10000, 784)\n",
    "print(test_labels.shape)  #出力：(10000, 10)"
   ]
  },
  {
   "cell_type": "code",
   "execution_count": 8,
   "metadata": {
    "scrolled": true
   },
   "outputs": [
    {
     "data": {
      "image/png": "[encoded data removed]",
      "text/plain": [
       "<Figure size 216x216 with 1 Axes>"
      ]
     },
     "metadata": {
      "needs_background": "light"
     },
     "output_type": "display_data"
    },
    {
     "name": "stdout",
     "output_type": "stream",
     "text": [
      "[0. 0. 1. 0. 0. 0. 0. 0. 0. 0.]\n"
     ]
    }
   ],
   "source": [
    "# テスト用画像の確認\n",
    "%matplotlib inline\n",
    "import matplotlib.pyplot as plt\n",
    "\n",
    "# グラフエリアのサイズを3×3にする\n",
    "plt.ﬁgure(ﬁgsize=(3, 3))\n",
    "# グレースケールにする\n",
    "plt.gray()        \n",
    "# 1番目の784個のピクセル値を28×28の行列にする\n",
    "img = test_images[0, :].reshape(28, 28)\n",
    "# 色相を反転させてプロットする\n",
    "plt.pcolor(255 - img)\n",
    "plt.xlim(0, 27)   # x軸を0~28の範囲\n",
    "plt.ylim(27, 0)   # y軸を28~0の範囲\n",
    "plt.show()\n",
    "\n",
    "print(test_labels[0]) # 1番目の正解ラベルを出力"
   ]
  },
  {
   "cell_type": "code",
   "execution_count": 9,
   "metadata": {},
   "outputs": [],
   "source": [
    "# 学習率、学習回数、ミニバッチのサイズを設定\n",
    "learning_rate = 0.5    # 学習率\n",
    "training_epochs = 1500 # 学習回数\n",
    "batch_size = 50        # ミニバッチのサイズ"
   ]
  },
  {
   "cell_type": "code",
   "execution_count": 10,
   "metadata": {},
   "outputs": [],
   "source": [
    "# データフローグラフ\n",
    "\n",
    "# 入力層（ニューロン数＝784）（行数可変, 各データのサイズ＝784列）\n",
    "x = tf.placeholder(tf.float32, [None, 784])\n",
    "# 画像データ20個を28×28の行列にしてログに出力できるようにする\n",
    "img = tf.reshape(x,[-1,28,28,1]) \n",
    "# 画像のサマリーを20個ログに出力する\n",
    "tf.summary.image(\"input_data\", img, 20)\n",
    "\n",
    "# 隠れ層（ニューロン数＝64）\n",
    "with tf.name_scope(\"hidden\"):\n",
    "    # 重み(各データのサイズ＝784行, ニューロン数＝64列)\n",
    "    w1 = tf.Variable(tf.truncated_normal([784, 64], stddev=0.1), name=\"w1\")\n",
    "    # バイアス(ニューロン数＝64列)\n",
    "    b1 = tf.Variable(tf.zeros([64]), name=\"b1\")\n",
    "    # 活性化関数:出力(入力データの行数＝50行, ニューロン数＝64列)\n",
    "    h1 = tf.nn.sigmoid(tf.matmul(x, w1) + b1)\n",
    "\n",
    "# 出力層（ニューロン数＝10）\n",
    "with tf.name_scope(\"output\"):\n",
    "    # 重み(前層のニューロン数＝64行,クラス数＝ニューロン数＝10列)\n",
    "    w2 = tf.Variable(tf.truncated_normal([64, 10], stddev=0.1), name=\"w2\")\n",
    "    # バイアス(クラス数＝ニューロン数＝10列)\n",
    "    b2 = tf.Variable(tf.zeros([10]), name=\"b2\")\n",
    "    # 活性化関数:出力((前層の出力行数＝50行, 2層のニューロン数＝10列)\n",
    "    out = tf.nn.softmax(tf.matmul(h1, w2) + b2)\n",
    "\n",
    "#　誤差関数\n",
    "with tf.name_scope(\"loss\"):\n",
    "    # 正解ラベルを保持するプレースホルダー(行数可変, 列数は正解ラベルと同じ1)\n",
    "    t = tf.placeholder(tf.float32, [None, 10])\n",
    "    # クロスエントロピー誤差関数\n",
    "    loss = tf.reduce_mean(\n",
    "              -tf.reduce_sum(t*tf.log(out + 1e-5), axis=[1]))\n",
    "    # 誤差をログとして出力\n",
    "    tf.summary.scalar(\"loss\", loss)\n",
    "\n",
    "# 訓練(ミニマイザー)\n",
    "with tf.name_scope(\"train\"):\n",
    "    train_step = tf.train.GradientDescentOptimizer(\n",
    "        learning_rate   # 学習率\n",
    "    ).minimize(loss)    # 最小化問題を解く\n",
    "\n",
    "# 評価\n",
    "with tf.name_scope(\"accuracy\"):\n",
    "    # (out＝t)の最大値を比較\n",
    "    correct = tf.equal(tf.argmax(out,1), tf.argmax(t,1))\n",
    "    # True(正解＝1)の平均を取る\n",
    "    accuracy = tf.reduce_mean(tf.cast(correct, tf.float32))\n",
    "    # 精度をログとして出力\n",
    "    tf.summary.scalar(\"accuracy\", accuracy)\n",
    "\n",
    "# 変数を初期化するopノード\n",
    "init =tf.global_variables_initializer()\n",
    "# ログをマージするopノード\n",
    "summary_op = tf.summary.merge_all()"
   ]
  },
  {
   "cell_type": "code",
   "execution_count": 11,
   "metadata": {
    "scrolled": true
   },
   "outputs": [
    {
     "name": "stdout",
     "output_type": "stream",
     "text": [
      "(50) accuracy = 0.66\n",
      "(100) accuracy = 0.71\n",
      "(150) accuracy = 0.76\n",
      "(200) accuracy = 0.74\n",
      "(250) accuracy = 0.76\n",
      "(300) accuracy = 0.77\n",
      "(350) accuracy = 0.77\n",
      "(400) accuracy = 0.79\n",
      "(450) accuracy = 0.81\n",
      "(500) accuracy = 0.81\n",
      "(550) accuracy = 0.77\n",
      "(600) accuracy = 0.82\n",
      "(650) accuracy = 0.80\n",
      "(700) accuracy = 0.81\n",
      "(750) accuracy = 0.81\n",
      "(800) accuracy = 0.81\n",
      "(850) accuracy = 0.82\n",
      "(900) accuracy = 0.82\n",
      "(950) accuracy = 0.82\n",
      "(1000) accuracy = 0.83\n",
      "(1050) accuracy = 0.83\n",
      "(1100) accuracy = 0.82\n",
      "(1150) accuracy = 0.82\n",
      "(1200) accuracy = 0.82\n",
      "(1250) accuracy = 0.81\n",
      "(1300) accuracy = 0.84\n",
      "(1350) accuracy = 0.82\n",
      "(1400) accuracy = 0.80\n",
      "(1450) accuracy = 0.83\n",
      "(1500) accuracy = 0.84\n"
     ]
    }
   ],
   "source": [
    "# セッション部\n",
    "with tf.Session() as sess:\n",
    "    summary_writer = tf.summary.FileWriter(\n",
    "        \"logs\",    # イベントファイルの保存先\n",
    "        sess.graph # データフローグラフを視覚化する\n",
    "        )\n",
    "    sess.run(init) # initノードを実行して変数を初期化\n",
    "    for epoch in range(training_epochs):\n",
    "        # ミニバッチを抽出\n",
    "        train_images, train_labels = fashion.train.next_batch(50)\n",
    "        \n",
    "        sess.run(\n",
    "            train_step,                   # ミニマイザーを実行\n",
    "            feed_dict={x:train_images,    # 訓練データのミニバッチ\n",
    "                       t:train_labels}    # 正解ラベルのミニバッチ\n",
    "            )\n",
    "\n",
    "        # 50回ごとにテストデータを使用して精度を出力\n",
    "        epoch += 1\n",
    "        if epoch % 50 == 0:\n",
    "            acc_val = sess.run(\n",
    "                accuracy,                  # クロスエントロピー誤差のオペレーション\n",
    "                feed_dict={x:test_images,  # テストテータをセット\n",
    "                           t:test_labels}) # テストデータの正解ラベル\n",
    "            print('(%d) accuracy = %.2f' % (epoch, acc_val))\n",
    "\n",
    "            # イベントログをsummary_strに代入\n",
    "            summary_str = sess.run(\n",
    "                summary_op,                # ログをマージするopノード\n",
    "                feed_dict={x:test_images,  # テストテータをセット\n",
    "                           t:test_labels}) # テストデータの正解ラベル\n",
    "            # イベントファイルにログを追加\n",
    "            summary_writer.add_summary(summary_str, epoch)"
   ]
  },
  {
   "cell_type": "code",
   "execution_count": null,
   "metadata": {},
   "outputs": [],
   "source": []
  }
 ],
 "metadata": {
  "kernelspec": {
   "display_name": "Python 3",
   "language": "python",
   "name": "python3"
  },
  "language_info": {
   "codemirror_mode": {
    "name": "ipython",
    "version": 3
   },
   "file_extension": ".py",
   "mimetype": "text/x-python",
   "name": "python",
   "nbconvert_exporter": "python",
   "pygments_lexer": "ipython3",
   "version": "3.6.8"
  }
 },
 "nbformat": 4,
 "nbformat_minor": 2
}
