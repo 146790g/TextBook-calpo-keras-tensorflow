{
 "cells": [
  {
   "cell_type": "code",
   "execution_count": 2,
   "metadata": {},
   "outputs": [
    {
     "name": "stdout",
     "output_type": "stream",
     "text": [
      "rate  =  0.08\n",
      "price =  1000.0\n",
      "price(update) =  1080.0\n"
     ]
    }
   ],
   "source": [
    "# セッションの処理を関数としてまとめる\n",
    "import tensorflow as tf\n",
    "\n",
    "# データフローグラフの作成\n",
    "rate = tf.constant(0.08, dtype=tf.float32)    # 消費税率(float32)のopノード\n",
    "price = tf.Variable(1000.0, dtype=tf.float32) # 価格(float32)を保持する変数\n",
    "tax = tf.multiply(rate, price)                # 税額を計算するopノード\n",
    "price_tax = tf.add(tax, price)                # 税込み金額を計算するopノード\n",
    "update = tf.assign(price, price_tax)          # 変数priceを更新するopノード\n",
    "\n",
    "# セッションの処理を実行する関数\n",
    "def run_session():\n",
    "    sess = tf.Session()                           # セッションスタート\n",
    "    sess.run(tf.global_variables_initializer())   # すべての変数をまとめて初期化\n",
    "    print('rate  = ', sess.run(rate))             # rateノードを実行\n",
    "    print('price = ', sess.run(price))            # 変数priceを出力\n",
    "    sess.run(update)                              # updateノードを実行\n",
    "    print('price(update) = ', sess.run(price))    # 更新後のpriceを出力\n",
    "    sess.close()                                  # セッションを閉じる\n",
    "\n",
    "# セッションを実行\n",
    "run_session()"
   ]
  },
  {
   "cell_type": "code",
   "execution_count": 3,
   "metadata": {},
   "outputs": [
    {
     "name": "stdout",
     "output_type": "stream",
     "text": [
      "rate  =  0.08\n",
      "price =  1000.0\n",
      "price(update) =  1080.0\n"
     ]
    }
   ],
   "source": [
    "# セッションの処理をwith文にまとめる\n",
    "import tensorflow as tf\n",
    "\n",
    "# データフローグラフの作成\n",
    "rate = tf.constant(0.08, dtype=tf.float32)    # 消費税率(float32)のopノード\n",
    "price = tf.Variable(1000.0, dtype=tf.float32) # 価格(float32)を保持する変数\n",
    "tax = tf.multiply(rate, price)                # 税額を計算するopノード\n",
    "price_tax = tf.add(tax, price)                # 税込み金額を計算するopノード\n",
    "update = tf.assign(price, price_tax)          # 変数priceを更新するopノード\n",
    "\n",
    "# セッションの処理\n",
    "with tf.Session() as sess:\n",
    "    sess.run(tf.global_variables_initializer())   # すべての変数をまとめて初期化\n",
    "    print('rate  = ', sess.run(rate))             # rateノードを実行\n",
    "    print('price = ', sess.run(price))            # 変数priceを出力\n",
    "    sess.run(update)                              # updateノードを実行\n",
    "    print('price(update) = ', sess.run(price))    # 更新後のpriceを出力"
   ]
  },
  {
   "cell_type": "code",
   "execution_count": null,
   "metadata": {},
   "outputs": [],
   "source": []
  }
 ],
 "metadata": {
  "kernelspec": {
   "display_name": "Python 3",
   "language": "python",
   "name": "python3"
  },
  "language_info": {
   "codemirror_mode": {
    "name": "ipython",
    "version": 3
   },
   "file_extension": ".py",
   "mimetype": "text/x-python",
   "name": "python",
   "nbconvert_exporter": "python",
   "pygments_lexer": "ipython3",
   "version": "3.6.7"
  }
 },
 "nbformat": 4,
 "nbformat_minor": 2
}
