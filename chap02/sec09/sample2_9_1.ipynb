{
 "cells": [
  {
   "cell_type": "code",
   "execution_count": 1,
   "metadata": {},
   "outputs": [
    {
     "name": "stdout",
     "output_type": "stream",
     "text": [
      "RATE  = 0.08\n",
      "tax   = 80.0\n",
      "price = 1080.0\n"
     ]
    }
   ],
   "source": [
    "# 税込み金額を計算するPythonプログラム\n",
    "\n",
    "RATE = 0.08              # 消費税率\n",
    "price = 1000             #.価格\n",
    "tax = RATE * price       # 税込み金額を計算\n",
    "price_tax = tax +  price # 税込み金額を計算\n",
    "price = price_tax        # 変数priceを更新\n",
    "\n",
    "print('RATE  =', RATE)   # 税率を出力\n",
    "print('tax   =', tax)    # 税額を出力\n",
    "print('price =', price)  # 税込み金額を出力"
   ]
  },
  {
   "cell_type": "code",
   "execution_count": 2,
   "metadata": {},
   "outputs": [
    {
     "name": "stdout",
     "output_type": "stream",
     "text": [
      "rate      =  Tensor(\"Const:0\", shape=(), dtype=float32)\n",
      "price     = <tf.Variable 'Variable:0' shape=() dtype=float32_ref>\n",
      "tax       = Tensor(\"Mul:0\", shape=(), dtype=float32)\n",
      "price_tax = Tensor(\"Add:0\", shape=(), dtype=float32)\n",
      "update    = Tensor(\"Assign:0\", shape=(), dtype=float32_ref)\n"
     ]
    }
   ],
   "source": [
    "# データフローグラフの作成\n",
    "\n",
    "import tensorflow as tf                       # TensorFlowのインポート\n",
    "\n",
    "# データフローグラフの作成\n",
    "rate = tf.constant(0.08, dtype=tf.float32)    # 消費税率(float32)のopノード\n",
    "price = tf.Variable(1000.0, dtype=tf.float32) # 価格(float32)を保持する変数\n",
    "tax = tf.multiply(rate, price)                # 税額を計算するopノード\n",
    "price_tax = tf.add(tax, price)                # 税込み金額を計算するopノード\n",
    "update = tf.assign(price, price_tax)          # 変数priceを更新するopノード\n",
    "\n",
    "# データフローグラフの各要素を出力\n",
    "print('rate      = ', rate)                   # rateノードを出力\n",
    "print('price     =', price)                   # 変数priceを出力\n",
    "print('tax       =', tax)                     # taxノードを出力\n",
    "print('price_tax =', price_tax)               # price_taxノードを出力\n",
    "print('update    =', update)                  # updateノードを出力"
   ]
  },
  {
   "cell_type": "code",
   "execution_count": null,
   "metadata": {},
   "outputs": [],
   "source": []
  }
 ],
 "metadata": {
  "kernelspec": {
   "display_name": "Python 3",
   "language": "python",
   "name": "python3"
  },
  "language_info": {
   "codemirror_mode": {
    "name": "ipython",
    "version": 3
   },
   "file_extension": ".py",
   "mimetype": "text/x-python",
   "name": "python",
   "nbconvert_exporter": "python",
   "pygments_lexer": "ipython3",
   "version": "3.6.7"
  }
 },
 "nbformat": 4,
 "nbformat_minor": 2
}
